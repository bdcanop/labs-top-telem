{
  "cells": [
    {
      "cell_type": "markdown",
      "metadata": {
        "id": "JwhMZbRowI_u"
      },
      "source": [
        "# Data Processing using Pyspark"
      ]
    },
    {
      "cell_type": "code",
      "execution_count": 1,
      "metadata": {
        "colab": {
          "base_uri": "https://localhost:8080/"
        },
        "id": "2H2qaLEpwI_x",
        "outputId": "37fadb05-c1ff-4154-958c-bdb52c5ab7b0"
      },
      "outputs": [
        {
          "output_type": "stream",
          "name": "stdout",
          "text": [
            "Mounted at /content/gdrive\n"
          ]
        }
      ],
      "source": [
        "#configuración en google colab de spark y pyspark\n",
        "from google.colab import drive\n",
        "drive.mount('/content/gdrive')"
      ]
    },
    {
      "cell_type": "code",
      "execution_count": 2,
      "metadata": {
        "id": "NbvPsoJ_wI_y"
      },
      "outputs": [],
      "source": [
        "#instalar java y spark\n",
        "!apt-get install openjdk-11-jdk-headless -qq > /dev/null\n",
        "!wget -q https://dlcdn.apache.org/spark/spark-3.5.3/spark-3.5.3-bin-hadoop3.tgz\n",
        "!tar xf spark-3.5.3-bin-hadoop3.tgz\n",
        "!pip install -q findspark"
      ]
    },
    {
      "cell_type": "code",
      "execution_count": 3,
      "metadata": {
        "id": "fX80FkkuwI_z"
      },
      "outputs": [],
      "source": [
        "import os\n",
        "os.environ[\"JAVA_HOME\"] = \"/usr/lib/jvm/java-11-openjdk-amd64\"\n",
        "os.environ[\"SPARK_HOME\"] = \"/content/spark-3.5.3-bin-hadoop3\""
      ]
    },
    {
      "cell_type": "code",
      "execution_count": 4,
      "metadata": {
        "id": "RpTezgqqwI_z"
      },
      "outputs": [],
      "source": [
        "import findspark\n",
        "findspark.init()\n",
        "from pyspark.sql import SparkSession\n",
        "spark = SparkSession.builder.master(\"local[*]\").getOrCreate()\n",
        "sc = spark.sparkContext"
      ]
    },
    {
      "cell_type": "code",
      "execution_count": 5,
      "metadata": {
        "colab": {
          "base_uri": "https://localhost:8080/",
          "height": 221
        },
        "id": "f9d3EpWNwI_z",
        "outputId": "b14eedbf-3902-432a-d4d9-8512eabb9586"
      },
      "outputs": [
        {
          "output_type": "execute_result",
          "data": {
            "text/plain": [
              "<pyspark.sql.session.SparkSession at 0x7ef4ed17efe0>"
            ],
            "text/html": [
              "\n",
              "            <div>\n",
              "                <p><b>SparkSession - in-memory</b></p>\n",
              "                \n",
              "        <div>\n",
              "            <p><b>SparkContext</b></p>\n",
              "\n",
              "            <p><a href=\"http://a3f305cb6ba7:4040\">Spark UI</a></p>\n",
              "\n",
              "            <dl>\n",
              "              <dt>Version</dt>\n",
              "                <dd><code>v3.5.3</code></dd>\n",
              "              <dt>Master</dt>\n",
              "                <dd><code>local[*]</code></dd>\n",
              "              <dt>AppName</dt>\n",
              "                <dd><code>pyspark-shell</code></dd>\n",
              "            </dl>\n",
              "        </div>\n",
              "        \n",
              "            </div>\n",
              "        "
            ]
          },
          "metadata": {},
          "execution_count": 5
        }
      ],
      "source": [
        "spark"
      ]
    },
    {
      "cell_type": "code",
      "execution_count": 6,
      "metadata": {
        "colab": {
          "base_uri": "https://localhost:8080/",
          "height": 197
        },
        "id": "zIqfZuwmwI_0",
        "outputId": "d3680f40-408e-4cb9-f193-6c433295630d"
      },
      "outputs": [
        {
          "output_type": "execute_result",
          "data": {
            "text/plain": [
              "<SparkContext master=local[*] appName=pyspark-shell>"
            ],
            "text/html": [
              "\n",
              "        <div>\n",
              "            <p><b>SparkContext</b></p>\n",
              "\n",
              "            <p><a href=\"http://a3f305cb6ba7:4040\">Spark UI</a></p>\n",
              "\n",
              "            <dl>\n",
              "              <dt>Version</dt>\n",
              "                <dd><code>v3.5.3</code></dd>\n",
              "              <dt>Master</dt>\n",
              "                <dd><code>local[*]</code></dd>\n",
              "              <dt>AppName</dt>\n",
              "                <dd><code>pyspark-shell</code></dd>\n",
              "            </dl>\n",
              "        </div>\n",
              "        "
            ]
          },
          "metadata": {},
          "execution_count": 6
        }
      ],
      "source": [
        "sc"
      ]
    },
    {
      "cell_type": "code",
      "execution_count": 7,
      "metadata": {
        "id": "m6QOf2wHwI_0"
      },
      "outputs": [],
      "source": [
        "# Load csv Dataset\n",
        "#df=spark.read.csv('s3://<bucket/dir>/sample_data.csv',inferSchema=True,header=True)\n",
        "df=spark.read.csv('gdrive/MyDrive/st0263-labs/datasets/Casos_positivos_de_COVID-19_en_Colombia-1K.csv',inferSchema=True,header=True)"
      ]
    },
    {
      "cell_type": "code",
      "execution_count": 8,
      "metadata": {
        "colab": {
          "base_uri": "https://localhost:8080/"
        },
        "id": "JQk3f9j2wI_0",
        "outputId": "9f990572-3f9f-4de0-b1c2-97c0a126b8cd"
      },
      "outputs": [
        {
          "output_type": "execute_result",
          "data": {
            "text/plain": [
              "['fecha reporte web',\n",
              " 'ID de caso',\n",
              " 'Fecha de notificación',\n",
              " 'Código DIVIPOLA departamento',\n",
              " 'Nombre departamento',\n",
              " 'Código DIVIPOLA municipio',\n",
              " 'Nombre municipio',\n",
              " 'Edad',\n",
              " 'Unidad de medida de edad',\n",
              " 'Sexo',\n",
              " 'Tipo de contagio',\n",
              " 'Ubicación del caso',\n",
              " 'Estado',\n",
              " 'Código ISO del país',\n",
              " 'Nombre del país',\n",
              " 'Recuperado',\n",
              " 'Fecha de inicio de síntomas',\n",
              " 'Fecha de muerte',\n",
              " 'Fecha de diagnóstico',\n",
              " 'Fecha de recuperación',\n",
              " 'Tipo de recuperación',\n",
              " 'Pertenencia étnica',\n",
              " 'Nombre del grupo étnico']"
            ]
          },
          "metadata": {},
          "execution_count": 8
        }
      ],
      "source": [
        "#columns of dataframe\n",
        "df.columns"
      ]
    },
    {
      "cell_type": "code",
      "execution_count": 9,
      "metadata": {
        "colab": {
          "base_uri": "https://localhost:8080/"
        },
        "id": "T_Hn1ty-wI_1",
        "outputId": "e6fc539f-805f-4f85-9ab4-7b25b9ed699c"
      },
      "outputs": [
        {
          "output_type": "execute_result",
          "data": {
            "text/plain": [
              "23"
            ]
          },
          "metadata": {},
          "execution_count": 9
        }
      ],
      "source": [
        "#check number of columns\n",
        "len(df.columns)"
      ]
    },
    {
      "cell_type": "code",
      "execution_count": 10,
      "metadata": {
        "colab": {
          "base_uri": "https://localhost:8080/"
        },
        "id": "YLHhE8NvwI_1",
        "outputId": "2d2272e7-1815-49f5-8e51-9da4ee1fb790"
      },
      "outputs": [
        {
          "output_type": "execute_result",
          "data": {
            "text/plain": [
              "1000"
            ]
          },
          "metadata": {},
          "execution_count": 10
        }
      ],
      "source": [
        "#number of records in dataframe\n",
        "df.count()"
      ]
    },
    {
      "cell_type": "code",
      "execution_count": 11,
      "metadata": {
        "colab": {
          "base_uri": "https://localhost:8080/"
        },
        "id": "kP8Kwq0DwI_1",
        "outputId": "a23dbf14-b3ba-4b6a-e3a6-6b9c68d777c0"
      },
      "outputs": [
        {
          "output_type": "stream",
          "name": "stdout",
          "text": [
            "(1000, 23)\n"
          ]
        }
      ],
      "source": [
        "#shape of dataset\n",
        "print((df.count(),len(df.columns)))"
      ]
    },
    {
      "cell_type": "code",
      "execution_count": 12,
      "metadata": {
        "colab": {
          "base_uri": "https://localhost:8080/"
        },
        "id": "2KUCbwRCwI_1",
        "outputId": "73dbcb60-29e6-47cd-8b8b-f8cb0f46a60d"
      },
      "outputs": [
        {
          "output_type": "stream",
          "name": "stdout",
          "text": [
            "root\n",
            " |-- fecha reporte web: string (nullable = true)\n",
            " |-- ID de caso: integer (nullable = true)\n",
            " |-- Fecha de notificación: string (nullable = true)\n",
            " |-- Código DIVIPOLA departamento: integer (nullable = true)\n",
            " |-- Nombre departamento: string (nullable = true)\n",
            " |-- Código DIVIPOLA municipio: integer (nullable = true)\n",
            " |-- Nombre municipio: string (nullable = true)\n",
            " |-- Edad: integer (nullable = true)\n",
            " |-- Unidad de medida de edad: integer (nullable = true)\n",
            " |-- Sexo: string (nullable = true)\n",
            " |-- Tipo de contagio: string (nullable = true)\n",
            " |-- Ubicación del caso: string (nullable = true)\n",
            " |-- Estado: string (nullable = true)\n",
            " |-- Código ISO del país: integer (nullable = true)\n",
            " |-- Nombre del país: string (nullable = true)\n",
            " |-- Recuperado: string (nullable = true)\n",
            " |-- Fecha de inicio de síntomas: string (nullable = true)\n",
            " |-- Fecha de muerte: string (nullable = true)\n",
            " |-- Fecha de diagnóstico: string (nullable = true)\n",
            " |-- Fecha de recuperación: string (nullable = true)\n",
            " |-- Tipo de recuperación: string (nullable = true)\n",
            " |-- Pertenencia étnica: integer (nullable = true)\n",
            " |-- Nombre del grupo étnico: string (nullable = true)\n",
            "\n"
          ]
        }
      ],
      "source": [
        "#printSchema\n",
        "df.printSchema()"
      ]
    },
    {
      "cell_type": "code",
      "execution_count": 13,
      "metadata": {
        "colab": {
          "base_uri": "https://localhost:8080/"
        },
        "id": "JyJNqTA_wI_2",
        "outputId": "75727184-ef0f-4ebe-a2d5-a5c775598811"
      },
      "outputs": [
        {
          "output_type": "stream",
          "name": "stdout",
          "text": [
            "+-----------------+----------+---------------------+----------------------------+-------------------+-------------------------+----------------+----+------------------------+----+----------------+------------------+------+-------------------+---------------+----------+---------------------------+---------------+--------------------+---------------------+--------------------+------------------+-----------------------+\n",
            "|fecha reporte web|ID de caso|Fecha de notificación|Código DIVIPOLA departamento|Nombre departamento|Código DIVIPOLA municipio|Nombre municipio|Edad|Unidad de medida de edad|Sexo|Tipo de contagio|Ubicación del caso|Estado|Código ISO del país|Nombre del país|Recuperado|Fecha de inicio de síntomas|Fecha de muerte|Fecha de diagnóstico|Fecha de recuperación|Tipo de recuperación|Pertenencia étnica|Nombre del grupo étnico|\n",
            "+-----------------+----------+---------------------+----------------------------+-------------------+-------------------------+----------------+----+------------------------+----+----------------+------------------+------+-------------------+---------------+----------+---------------------------+---------------+--------------------+---------------------+--------------------+------------------+-----------------------+\n",
            "| 6/3/2020 0:00:00|         1|     2/3/2020 0:00:00|                          11|             BOGOTA|                    11001|          BOGOTA|  19|                       1|   F|       Importado|              Casa|  Leve|                380|         ITALIA|Recuperado|          27/2/2020 0:00:00|           NULL|    6/3/2020 0:00:00|    13/3/2020 0:00:00|                 PCR|                 6|                   NULL|\n",
            "| 9/3/2020 0:00:00|         2|     6/3/2020 0:00:00|                          76|              VALLE|                    76111|            BUGA|  34|                       1|   M|       Importado|              Casa|  Leve|                724|         ESPAÑA|Recuperado|           4/3/2020 0:00:00|           NULL|    9/3/2020 0:00:00|    19/3/2020 0:00:00|                 PCR|                 5|                   NULL|\n",
            "| 9/3/2020 0:00:00|         3|     7/3/2020 0:00:00|                           5|          ANTIOQUIA|                     5001|        MEDELLIN|  50|                       1|   F|       Importado|              Casa|  Leve|                724|         ESPAÑA|Recuperado|          29/2/2020 0:00:00|           NULL|    9/3/2020 0:00:00|    15/3/2020 0:00:00|                 PCR|                 6|                   NULL|\n",
            "|11/3/2020 0:00:00|         4|     9/3/2020 0:00:00|                           5|          ANTIOQUIA|                     5001|        MEDELLIN|  55|                       1|   M|     Relacionado|              Casa|  Leve|               NULL|           NULL|Recuperado|           6/3/2020 0:00:00|           NULL|   11/3/2020 0:00:00|    26/3/2020 0:00:00|                 PCR|                 6|                   NULL|\n",
            "|11/3/2020 0:00:00|         5|     9/3/2020 0:00:00|                           5|          ANTIOQUIA|                     5001|        MEDELLIN|  25|                       1|   M|     Relacionado|              Casa|  Leve|               NULL|           NULL|Recuperado|           8/3/2020 0:00:00|           NULL|   11/3/2020 0:00:00|    23/3/2020 0:00:00|                 PCR|                 6|                   NULL|\n",
            "+-----------------+----------+---------------------+----------------------------+-------------------+-------------------------+----------------+----+------------------------+----+----------------+------------------+------+-------------------+---------------+----------+---------------------------+---------------+--------------------+---------------------+--------------------+------------------+-----------------------+\n",
            "only showing top 5 rows\n",
            "\n"
          ]
        }
      ],
      "source": [
        "#fisrt few rows of dataframe\n",
        "df.show(5)"
      ]
    },
    {
      "cell_type": "code",
      "execution_count": 14,
      "metadata": {
        "colab": {
          "base_uri": "https://localhost:8080/"
        },
        "id": "Soi5vkgMwI_2",
        "outputId": "1b9943a7-60ce-4554-e0d6-c6f05bd705cf"
      },
      "outputs": [
        {
          "output_type": "stream",
          "name": "stdout",
          "text": [
            "+----+----------------+\n",
            "|Edad|Nombre municipio|\n",
            "+----+----------------+\n",
            "|  19|          BOGOTA|\n",
            "|  34|            BUGA|\n",
            "|  50|        MEDELLIN|\n",
            "|  55|        MEDELLIN|\n",
            "|  25|        MEDELLIN|\n",
            "+----+----------------+\n",
            "only showing top 5 rows\n",
            "\n"
          ]
        }
      ],
      "source": [
        "#select only 2 columns\n",
        "df.select('Edad','Nombre municipio').show(5)"
      ]
    },
    {
      "cell_type": "code",
      "execution_count": 15,
      "metadata": {
        "colab": {
          "base_uri": "https://localhost:8080/"
        },
        "id": "84Wu41DWwI_2",
        "outputId": "5bf6e7d7-4cf5-4e2d-d4de-a50b4e7cd88c"
      },
      "outputs": [
        {
          "output_type": "stream",
          "name": "stdout",
          "text": [
            "+-------+-----------------+-----------------+---------------------+----------------------------+-------------------+-------------------------+----------------+-----------------+------------------------+----+----------------+------------------+---------+-------------------+---------------+----------+---------------------------+----------------+--------------------+---------------------+--------------------+------------------+-----------------------+\n",
            "|summary|fecha reporte web|       ID de caso|Fecha de notificación|Código DIVIPOLA departamento|Nombre departamento|Código DIVIPOLA municipio|Nombre municipio|             Edad|Unidad de medida de edad|Sexo|Tipo de contagio|Ubicación del caso|   Estado|Código ISO del país|Nombre del país|Recuperado|Fecha de inicio de síntomas| Fecha de muerte|Fecha de diagnóstico|Fecha de recuperación|Tipo de recuperación|Pertenencia étnica|Nombre del grupo étnico|\n",
            "+-------+-----------------+-----------------+---------------------+----------------------------+-------------------+-------------------------+----------------+-----------------+------------------------+----+----------------+------------------+---------+-------------------+---------------+----------+---------------------------+----------------+--------------------+---------------------+--------------------+------------------+-----------------------+\n",
            "|  count|             1000|             1000|                 1000|                        1000|               1000|                     1000|            1000|             1000|                    1000|1000|            1000|              1000|     1000|                477|            477|      1000|                        956|              52|                1000|                  950|                 950|              1000|                     14|\n",
            "|   mean|             NULL|            500.5|                 NULL|                    1299.711|               NULL|                28988.072|            NULL|           42.128|                   1.001|NULL|            NULL|              NULL|     NULL|   640.125786163522|           NULL|      NULL|                       NULL|            NULL|                NULL|                 NULL|                NULL|               5.9|                   NULL|\n",
            "| stddev|             NULL|288.8194360957494|                 NULL|           5587.488777287644|               NULL|       26747.800488409954|            NULL|16.90068783361342|    0.031622776601683805|NULL|            NULL|              NULL|     NULL| 219.64837471365254|           NULL|      NULL|                       NULL|            NULL|                NULL|                 NULL|                NULL|0.6134952130020056|                   NULL|\n",
            "|    min| 1/4/2020 0:00:00|                1|     1/4/2020 0:00:00|                           5|          ANTIOQUIA|                     5001|        ANAPOIMA|                1|                       1|   F|     Comunitaria|              Casa|Fallecido|                 32|       ALEMANIA| Fallecido|          10/3/2020 0:00:00|1/4/2020 0:00:00|    1/4/2020 0:00:00|    1/10/2020 0:00:00|                 PCR|                 1|              NASA_PAÉZ|\n",
            "|    max| 9/3/2020 0:00:00|             1000|     9/3/2020 0:00:00|                       47001|              VALLE|                    88001|       ZIPAQUIRA|               88|                       2|   M|     Relacionado|               N/A|      N/A|                862|      VENEZUELA|Recuperado|           9/3/2020 0:00:00|9/4/2020 0:00:00|    9/3/2020 0:00:00|     9/6/2020 0:00:00|              Tiempo|                 6|                   ZENU|\n",
            "+-------+-----------------+-----------------+---------------------+----------------------------+-------------------+-------------------------+----------------+-----------------+------------------------+----+----------------+------------------+---------+-------------------+---------------+----------+---------------------------+----------------+--------------------+---------------------+--------------------+------------------+-----------------------+\n",
            "\n"
          ]
        }
      ],
      "source": [
        "#info about dataframe\n",
        "df.describe().show()"
      ]
    },
    {
      "cell_type": "code",
      "source": [
        "# Seleccionamos algunas columnas del dataset, imprimimos 10 filas.\n",
        "nuevo_df = df.select('ID de caso', 'Edad','Nombre municipio', 'Tipo de contagio', 'Estado')\n",
        "nuevo_df.show(10)"
      ],
      "metadata": {
        "colab": {
          "base_uri": "https://localhost:8080/"
        },
        "id": "XhrgSFBBhQlE",
        "outputId": "adb82f7a-2105-4330-faa9-8cc61a6b4a8e"
      },
      "execution_count": 16,
      "outputs": [
        {
          "output_type": "stream",
          "name": "stdout",
          "text": [
            "+----------+----+----------------+----------------+------+\n",
            "|ID de caso|Edad|Nombre municipio|Tipo de contagio|Estado|\n",
            "+----------+----+----------------+----------------+------+\n",
            "|         1|  19|          BOGOTA|       Importado|  Leve|\n",
            "|         2|  34|            BUGA|       Importado|  Leve|\n",
            "|         3|  50|        MEDELLIN|       Importado|  Leve|\n",
            "|         4|  55|        MEDELLIN|     Relacionado|  Leve|\n",
            "|         5|  25|        MEDELLIN|     Relacionado|  Leve|\n",
            "|         6|  27|          ITAGUI|     Relacionado|  Leve|\n",
            "|         7|  85|       CARTAGENA|       Importado|  Leve|\n",
            "|         8|  22|          BOGOTA|       Importado|  Leve|\n",
            "|         9|  28|          BOGOTA|       Importado|  Leve|\n",
            "|        10|  36|          BOGOTA|       Importado|  Leve|\n",
            "+----------+----+----------------+----------------+------+\n",
            "only showing top 10 rows\n",
            "\n"
          ]
        }
      ]
    },
    {
      "cell_type": "code",
      "source": [
        "# Renombramos dos columnas 'Nombre municipio', 'Tipo de contagio'\n",
        "df_rename=nuevo_df.withColumnRenamed('Nombre municipio','Municipio').withColumnRenamed('Tipo de contagio','Contagio')\n",
        "df_rename.show(10)"
      ],
      "metadata": {
        "colab": {
          "base_uri": "https://localhost:8080/"
        },
        "id": "UanCAXDpkDHw",
        "outputId": "124ea188-a944-4cfd-f73a-b762cccd5a9d"
      },
      "execution_count": 17,
      "outputs": [
        {
          "output_type": "stream",
          "name": "stdout",
          "text": [
            "+----------+----+---------+-----------+------+\n",
            "|ID de caso|Edad|Municipio|   Contagio|Estado|\n",
            "+----------+----+---------+-----------+------+\n",
            "|         1|  19|   BOGOTA|  Importado|  Leve|\n",
            "|         2|  34|     BUGA|  Importado|  Leve|\n",
            "|         3|  50| MEDELLIN|  Importado|  Leve|\n",
            "|         4|  55| MEDELLIN|Relacionado|  Leve|\n",
            "|         5|  25| MEDELLIN|Relacionado|  Leve|\n",
            "|         6|  27|   ITAGUI|Relacionado|  Leve|\n",
            "|         7|  85|CARTAGENA|  Importado|  Leve|\n",
            "|         8|  22|   BOGOTA|  Importado|  Leve|\n",
            "|         9|  28|   BOGOTA|  Importado|  Leve|\n",
            "|        10|  36|   BOGOTA|  Importado|  Leve|\n",
            "+----------+----+---------+-----------+------+\n",
            "only showing top 10 rows\n",
            "\n"
          ]
        }
      ]
    },
    {
      "cell_type": "code",
      "execution_count": 18,
      "metadata": {
        "id": "46zH9o4iwI_2"
      },
      "outputs": [],
      "source": [
        "from pyspark.sql.types import StringType,DoubleType,IntegerType"
      ]
    },
    {
      "cell_type": "code",
      "execution_count": 19,
      "metadata": {
        "colab": {
          "base_uri": "https://localhost:8080/"
        },
        "id": "Hstx4cjOwI_2",
        "outputId": "97e36800-1b1f-4e74-85c6-87d910ac8339"
      },
      "outputs": [
        {
          "output_type": "stream",
          "name": "stdout",
          "text": [
            "+----------+----+---------+-----------+------+-----------+\n",
            "|ID de caso|Edad|Municipio|Contagio   |Estado|Edad mas 10|\n",
            "+----------+----+---------+-----------+------+-----------+\n",
            "|1         |19  |BOGOTA   |Importado  |Leve  |29         |\n",
            "|2         |34  |BUGA     |Importado  |Leve  |44         |\n",
            "|3         |50  |MEDELLIN |Importado  |Leve  |60         |\n",
            "|4         |55  |MEDELLIN |Relacionado|Leve  |65         |\n",
            "|5         |25  |MEDELLIN |Relacionado|Leve  |35         |\n",
            "|6         |27  |ITAGUI   |Relacionado|Leve  |37         |\n",
            "|7         |85  |CARTAGENA|Importado  |Leve  |95         |\n",
            "|8         |22  |BOGOTA   |Importado  |Leve  |32         |\n",
            "|9         |28  |BOGOTA   |Importado  |Leve  |38         |\n",
            "|10        |36  |BOGOTA   |Importado  |Leve  |46         |\n",
            "+----------+----+---------+-----------+------+-----------+\n",
            "only showing top 10 rows\n",
            "\n"
          ]
        }
      ],
      "source": [
        "#with column\n",
        "df_rename.withColumn(\"Edad mas 10\",(df[\"Edad\"]+10)).show(10,False)"
      ]
    },
    {
      "cell_type": "code",
      "execution_count": 20,
      "metadata": {
        "colab": {
          "base_uri": "https://localhost:8080/"
        },
        "id": "H0ZJUxPDwI_2",
        "outputId": "1e3749ee-1218-4d81-d775-b2859f92407e"
      },
      "outputs": [
        {
          "output_type": "stream",
          "name": "stdout",
          "text": [
            "+----------+----+---------+-----------+------+----------------+\n",
            "|ID de caso|Edad|Municipio|Contagio   |Estado|Edad tipo double|\n",
            "+----------+----+---------+-----------+------+----------------+\n",
            "|1         |19  |BOGOTA   |Importado  |Leve  |19.0            |\n",
            "|2         |34  |BUGA     |Importado  |Leve  |34.0            |\n",
            "|3         |50  |MEDELLIN |Importado  |Leve  |50.0            |\n",
            "|4         |55  |MEDELLIN |Relacionado|Leve  |55.0            |\n",
            "|5         |25  |MEDELLIN |Relacionado|Leve  |25.0            |\n",
            "|6         |27  |ITAGUI   |Relacionado|Leve  |27.0            |\n",
            "|7         |85  |CARTAGENA|Importado  |Leve  |85.0            |\n",
            "|8         |22  |BOGOTA   |Importado  |Leve  |22.0            |\n",
            "|9         |28  |BOGOTA   |Importado  |Leve  |28.0            |\n",
            "|10        |36  |BOGOTA   |Importado  |Leve  |36.0            |\n",
            "+----------+----+---------+-----------+------+----------------+\n",
            "only showing top 10 rows\n",
            "\n"
          ]
        }
      ],
      "source": [
        "df_rename.withColumn('Edad tipo double',df['Edad'].cast(DoubleType())).show(10,False)"
      ]
    },
    {
      "cell_type": "code",
      "source": [
        "# Eliminar la columna 'Suma_double'.\n",
        "df_rename.drop('Edad tipo double').show(10)"
      ],
      "metadata": {
        "colab": {
          "base_uri": "https://localhost:8080/"
        },
        "id": "qjGjone6mzIc",
        "outputId": "bbbfcda4-cea6-46ec-89d3-3f7534331138"
      },
      "execution_count": 21,
      "outputs": [
        {
          "output_type": "stream",
          "name": "stdout",
          "text": [
            "+----------+----+---------+-----------+------+\n",
            "|ID de caso|Edad|Municipio|   Contagio|Estado|\n",
            "+----------+----+---------+-----------+------+\n",
            "|         1|  19|   BOGOTA|  Importado|  Leve|\n",
            "|         2|  34|     BUGA|  Importado|  Leve|\n",
            "|         3|  50| MEDELLIN|  Importado|  Leve|\n",
            "|         4|  55| MEDELLIN|Relacionado|  Leve|\n",
            "|         5|  25| MEDELLIN|Relacionado|  Leve|\n",
            "|         6|  27|   ITAGUI|Relacionado|  Leve|\n",
            "|         7|  85|CARTAGENA|  Importado|  Leve|\n",
            "|         8|  22|   BOGOTA|  Importado|  Leve|\n",
            "|         9|  28|   BOGOTA|  Importado|  Leve|\n",
            "|        10|  36|   BOGOTA|  Importado|  Leve|\n",
            "+----------+----+---------+-----------+------+\n",
            "only showing top 10 rows\n",
            "\n"
          ]
        }
      ]
    },
    {
      "cell_type": "code",
      "execution_count": 22,
      "metadata": {
        "colab": {
          "base_uri": "https://localhost:8080/"
        },
        "id": "svbg3w2lwI_2",
        "outputId": "858969e8-37bc-4bca-c501-94dea1413fcd"
      },
      "outputs": [
        {
          "output_type": "stream",
          "name": "stdout",
          "text": [
            "+----------+----+---------+-----------+------+\n",
            "|ID de caso|Edad|Municipio|   Contagio|Estado|\n",
            "+----------+----+---------+-----------+------+\n",
            "|         3|  50| MEDELLIN|  Importado|  Leve|\n",
            "|         4|  55| MEDELLIN|Relacionado|  Leve|\n",
            "|         5|  25| MEDELLIN|Relacionado|  Leve|\n",
            "|        20|  26| MEDELLIN|Relacionado|  Leve|\n",
            "|        21|  28| MEDELLIN|Relacionado|  Leve|\n",
            "|        32|  55| MEDELLIN|  Importado|  Leve|\n",
            "|       106|  44| MEDELLIN|  Importado|  Leve|\n",
            "|       107|  56| MEDELLIN|  Importado|  Leve|\n",
            "|       108|  57| MEDELLIN|  Importado|  Leve|\n",
            "|       131|  22| MEDELLIN|  Importado|  Leve|\n",
            "+----------+----+---------+-----------+------+\n",
            "only showing top 10 rows\n",
            "\n"
          ]
        }
      ],
      "source": [
        "#filter the records\n",
        "df_rename.filter(df_rename['Municipio']=='MEDELLIN').show(10)"
      ]
    },
    {
      "cell_type": "code",
      "execution_count": 23,
      "metadata": {
        "colab": {
          "base_uri": "https://localhost:8080/"
        },
        "id": "xvcri23hwI_2",
        "outputId": "be456c6c-f8c5-4bca-9396-af1c8a227ebc"
      },
      "outputs": [
        {
          "output_type": "stream",
          "name": "stdout",
          "text": [
            "+----+---------+-----------+\n",
            "|Edad|Municipio|   Contagio|\n",
            "+----+---------+-----------+\n",
            "|  50| MEDELLIN|  Importado|\n",
            "|  55| MEDELLIN|Relacionado|\n",
            "|  25| MEDELLIN|Relacionado|\n",
            "|  26| MEDELLIN|Relacionado|\n",
            "|  28| MEDELLIN|Relacionado|\n",
            "|  55| MEDELLIN|  Importado|\n",
            "|  44| MEDELLIN|  Importado|\n",
            "|  56| MEDELLIN|  Importado|\n",
            "|  57| MEDELLIN|  Importado|\n",
            "|  22| MEDELLIN|  Importado|\n",
            "+----+---------+-----------+\n",
            "only showing top 10 rows\n",
            "\n"
          ]
        }
      ],
      "source": [
        "#filter the records\n",
        "df_rename.filter(df_rename['Municipio']=='MEDELLIN').select('Edad','Municipio','Contagio').show(10)"
      ]
    },
    {
      "cell_type": "code",
      "execution_count": 24,
      "metadata": {
        "colab": {
          "base_uri": "https://localhost:8080/"
        },
        "id": "zeafhbwWwI_2",
        "outputId": "e4f4b3e6-724e-4150-a5f1-7ee4832ee148"
      },
      "outputs": [
        {
          "output_type": "stream",
          "name": "stdout",
          "text": [
            "+----------+----+---------+-----------+------+\n",
            "|ID de caso|Edad|Municipio|   Contagio|Estado|\n",
            "+----------+----+---------+-----------+------+\n",
            "|       776|   2|   BOGOTA|Relacionado|  Leve|\n",
            "|       787|   2|   BOGOTA|Relacionado|  Leve|\n",
            "|       870|   2|   BOGOTA|Relacionado|  Leve|\n",
            "|       873|  15|   BOGOTA|Relacionado|  Leve|\n",
            "|       879|  13|   BOGOTA|Relacionado|  Leve|\n",
            "|       900|   2|   BOGOTA|Relacionado|  Leve|\n",
            "|       984|  15|   BOGOTA|Relacionado|  Leve|\n",
            "|       998|  17|   BOGOTA|Comunitaria|  Leve|\n",
            "+----------+----+---------+-----------+------+\n",
            "\n"
          ]
        }
      ],
      "source": [
        "#filter the multiple conditions\n",
        "df_rename.filter(df_rename['Municipio']=='BOGOTA').filter(df_rename['Edad'] <18).show(10)"
      ]
    },
    {
      "cell_type": "code",
      "execution_count": 25,
      "metadata": {
        "colab": {
          "base_uri": "https://localhost:8080/"
        },
        "id": "y250NbjqwI_2",
        "outputId": "e945328c-f51a-48e9-df79-69e2bdf189c8"
      },
      "outputs": [
        {
          "output_type": "stream",
          "name": "stdout",
          "text": [
            "+-----------+\n",
            "|   Contagio|\n",
            "+-----------+\n",
            "|Relacionado|\n",
            "|  Importado|\n",
            "|Comunitaria|\n",
            "| En estudio|\n",
            "+-----------+\n",
            "\n"
          ]
        }
      ],
      "source": [
        "#Distinct Values in a column\n",
        "df_rename.select('Contagio').distinct().show()"
      ]
    },
    {
      "cell_type": "code",
      "execution_count": 26,
      "metadata": {
        "colab": {
          "base_uri": "https://localhost:8080/"
        },
        "id": "Ni3YuJ7hwI_2",
        "outputId": "3598cef2-1169-48ed-f6ae-42272318397a"
      },
      "outputs": [
        {
          "output_type": "execute_result",
          "data": {
            "text/plain": [
              "4"
            ]
          },
          "metadata": {},
          "execution_count": 26
        }
      ],
      "source": [
        "#distinct value count\n",
        "df_rename.select('Contagio').distinct().count()"
      ]
    },
    {
      "cell_type": "code",
      "execution_count": 27,
      "metadata": {
        "colab": {
          "base_uri": "https://localhost:8080/"
        },
        "id": "gyd5am90wI_3",
        "outputId": "220602a6-16a9-4b72-eee0-fea87aa66661"
      },
      "outputs": [
        {
          "output_type": "stream",
          "name": "stdout",
          "text": [
            "+-----------+-----+\n",
            "|Contagio   |count|\n",
            "+-----------+-----+\n",
            "|Relacionado|459  |\n",
            "|Importado  |477  |\n",
            "|Comunitaria|63   |\n",
            "|En estudio |1    |\n",
            "+-----------+-----+\n",
            "\n"
          ]
        }
      ],
      "source": [
        "df_rename.groupBy('Contagio').count().show(5,False)"
      ]
    },
    {
      "cell_type": "code",
      "execution_count": 28,
      "metadata": {
        "colab": {
          "base_uri": "https://localhost:8080/"
        },
        "id": "mcJHIiwPwI_3",
        "outputId": "78139882-c559-4936-9545-d646a3e9996f"
      },
      "outputs": [
        {
          "output_type": "stream",
          "name": "stdout",
          "text": [
            "+-----------+-----+\n",
            "|Contagio   |count|\n",
            "+-----------+-----+\n",
            "|Importado  |477  |\n",
            "|Relacionado|459  |\n",
            "|Comunitaria|63   |\n",
            "|En estudio |1    |\n",
            "+-----------+-----+\n",
            "\n"
          ]
        }
      ],
      "source": [
        "# Value counts\n",
        "df_rename.groupBy('Contagio').count().orderBy('count',ascending=False).show(4,False)"
      ]
    },
    {
      "cell_type": "code",
      "execution_count": 29,
      "metadata": {
        "colab": {
          "base_uri": "https://localhost:8080/"
        },
        "id": "TtjGVCPJwI_3",
        "outputId": "ac73a5f4-66c1-4604-ba21-ab0a26a4db53"
      },
      "outputs": [
        {
          "output_type": "stream",
          "name": "stdout",
          "text": [
            "+-----------+------------------+-----------------+\n",
            "|Contagio   |avg(ID de caso)   |avg(Edad)        |\n",
            "+-----------+------------------+-----------------+\n",
            "|Relacionado|539.8387799564271 |41.17211328976035|\n",
            "|Importado  |425.77358490566036|42.44863731656184|\n",
            "|Comunitaria|776.8730158730159 |46.06349206349206|\n",
            "|En estudio |677.0             |80.0             |\n",
            "+-----------+------------------+-----------------+\n",
            "\n"
          ]
        }
      ],
      "source": [
        "# Value counts\n",
        "df_rename.groupBy('Contagio').mean().show(4,False)"
      ]
    },
    {
      "cell_type": "code",
      "execution_count": 30,
      "metadata": {
        "colab": {
          "base_uri": "https://localhost:8080/"
        },
        "id": "Wlrk_f1IwI_3",
        "outputId": "cf7a5418-5958-4888-d9e5-0b3feac767ff"
      },
      "outputs": [
        {
          "output_type": "stream",
          "name": "stdout",
          "text": [
            "+-----------+---------------+---------+\n",
            "|Contagio   |sum(ID de caso)|sum(Edad)|\n",
            "+-----------+---------------+---------+\n",
            "|Relacionado|247786         |18898    |\n",
            "|Importado  |203094         |20248    |\n",
            "|Comunitaria|48943          |2902     |\n",
            "|En estudio |677            |80       |\n",
            "+-----------+---------------+---------+\n",
            "\n"
          ]
        }
      ],
      "source": [
        "df_rename.groupBy('Contagio').sum().show(4,False)"
      ]
    },
    {
      "cell_type": "code",
      "execution_count": 31,
      "metadata": {
        "colab": {
          "base_uri": "https://localhost:8080/"
        },
        "id": "A9mZCRy-wI_3",
        "outputId": "b87fcff7-ec65-41a7-d8b1-7af771fe503c"
      },
      "outputs": [
        {
          "output_type": "stream",
          "name": "stdout",
          "text": [
            "+-----------+---------------+---------+\n",
            "|Contagio   |max(ID de caso)|max(Edad)|\n",
            "+-----------+---------------+---------+\n",
            "|Relacionado|992            |88       |\n",
            "|Importado  |994            |87       |\n",
            "|Comunitaria|1000           |82       |\n",
            "|En estudio |677            |80       |\n",
            "+-----------+---------------+---------+\n",
            "\n"
          ]
        }
      ],
      "source": [
        "# Value counts\n",
        "df_rename.groupBy('Contagio').max().show(4,False)"
      ]
    },
    {
      "cell_type": "code",
      "execution_count": 32,
      "metadata": {
        "colab": {
          "base_uri": "https://localhost:8080/"
        },
        "id": "9PPAXO_pwI_3",
        "outputId": "4b7977aa-505b-47f8-ce26-26c4ace441d9"
      },
      "outputs": [
        {
          "output_type": "stream",
          "name": "stdout",
          "text": [
            "+-----------+---------------+---------+\n",
            "|Contagio   |min(ID de caso)|min(Edad)|\n",
            "+-----------+---------------+---------+\n",
            "|Relacionado|4              |1        |\n",
            "|Importado  |1              |9        |\n",
            "|Comunitaria|250            |6        |\n",
            "|En estudio |677            |80       |\n",
            "+-----------+---------------+---------+\n",
            "\n"
          ]
        }
      ],
      "source": [
        "# Value counts\n",
        "df_rename.groupBy('Contagio').min().show(4,False)"
      ]
    },
    {
      "cell_type": "code",
      "execution_count": 33,
      "metadata": {
        "colab": {
          "base_uri": "https://localhost:8080/"
        },
        "id": "d3JRft-IwI_3",
        "outputId": "1720321e-f88c-43b0-bbe5-1c84410d9c87"
      },
      "outputs": [
        {
          "output_type": "stream",
          "name": "stdout",
          "text": [
            "+-----------+---------+\n",
            "|Contagio   |sum(Edad)|\n",
            "+-----------+---------+\n",
            "|Relacionado|18898    |\n",
            "|Importado  |20248    |\n",
            "|Comunitaria|2902     |\n",
            "|En estudio |80       |\n",
            "+-----------+---------+\n",
            "\n"
          ]
        }
      ],
      "source": [
        "#Aggregation\n",
        "df_rename.groupBy('Contagio').agg({'Edad':'sum'}).show(4,False)"
      ]
    },
    {
      "cell_type": "code",
      "execution_count": 34,
      "metadata": {
        "id": "2J1NJq9dwI_3"
      },
      "outputs": [],
      "source": [
        "# UDF\n",
        "from pyspark.sql.functions import udf\n"
      ]
    },
    {
      "cell_type": "code",
      "source": [
        "# Función para clasificar la edad en rangos de 10 en 10\n",
        "def clasificar_edad(edad):\n",
        "    if edad is None:\n",
        "        return \"Desconocido\"  # Para manejar valores nulos\n",
        "    rango_inferior = (edad // 10) * 10\n",
        "    rango_superior = rango_inferior + 9\n",
        "    return f\"{rango_inferior}-{rango_superior}\""
      ],
      "metadata": {
        "id": "8TAPxftpr5YZ"
      },
      "execution_count": 35,
      "outputs": []
    },
    {
      "cell_type": "code",
      "execution_count": 36,
      "metadata": {
        "colab": {
          "base_uri": "https://localhost:8080/"
        },
        "id": "4NZs-74ZwI_3",
        "outputId": "3e5bfcc7-9e0d-4529-8676-7f2caf1a504c"
      },
      "outputs": [
        {
          "output_type": "stream",
          "name": "stdout",
          "text": [
            "+----------+----+---------+-----------+------+------------+\n",
            "|ID de caso|Edad|Municipio|Contagio   |Estado|Rango edades|\n",
            "+----------+----+---------+-----------+------+------------+\n",
            "|1         |19  |BOGOTA   |Importado  |Leve  |10-19       |\n",
            "|2         |34  |BUGA     |Importado  |Leve  |30-39       |\n",
            "|3         |50  |MEDELLIN |Importado  |Leve  |50-59       |\n",
            "|4         |55  |MEDELLIN |Relacionado|Leve  |50-59       |\n",
            "|5         |25  |MEDELLIN |Relacionado|Leve  |20-29       |\n",
            "|6         |27  |ITAGUI   |Relacionado|Leve  |20-29       |\n",
            "|7         |85  |CARTAGENA|Importado  |Leve  |80-89       |\n",
            "|8         |22  |BOGOTA   |Importado  |Leve  |20-29       |\n",
            "|9         |28  |BOGOTA   |Importado  |Leve  |20-29       |\n",
            "|10        |36  |BOGOTA   |Importado  |Leve  |30-39       |\n",
            "+----------+----+---------+-----------+------+------------+\n",
            "only showing top 10 rows\n",
            "\n"
          ]
        }
      ],
      "source": [
        "#create udf using python function\n",
        "edades_udf=udf(clasificar_edad,StringType())\n",
        "#apply udf on dataframe\n",
        "df_rename.withColumn('Rango edades',edades_udf(df_rename['Edad'])).show(10,False)"
      ]
    },
    {
      "cell_type": "code",
      "source": [
        "# Usando una funcion lamda\n",
        "edad_udf = udf(lambda age: \"Joven\" if age <= 25 else \"Adulto\", StringType())\n",
        "# Aplicando udf en el dataframe.\n",
        "df_rename.withColumn(\"Grupo de edad\", edad_udf(df_rename.Edad)).show(10,False)"
      ],
      "metadata": {
        "colab": {
          "base_uri": "https://localhost:8080/"
        },
        "id": "BMFwD55gxWSF",
        "outputId": "f11a3c6d-0e4b-47c5-9099-1def75a8b727"
      },
      "execution_count": 37,
      "outputs": [
        {
          "output_type": "stream",
          "name": "stdout",
          "text": [
            "+----------+----+---------+-----------+------+-------------+\n",
            "|ID de caso|Edad|Municipio|Contagio   |Estado|Grupo de edad|\n",
            "+----------+----+---------+-----------+------+-------------+\n",
            "|1         |19  |BOGOTA   |Importado  |Leve  |Joven        |\n",
            "|2         |34  |BUGA     |Importado  |Leve  |Adulto       |\n",
            "|3         |50  |MEDELLIN |Importado  |Leve  |Adulto       |\n",
            "|4         |55  |MEDELLIN |Relacionado|Leve  |Adulto       |\n",
            "|5         |25  |MEDELLIN |Relacionado|Leve  |Joven        |\n",
            "|6         |27  |ITAGUI   |Relacionado|Leve  |Adulto       |\n",
            "|7         |85  |CARTAGENA|Importado  |Leve  |Adulto       |\n",
            "|8         |22  |BOGOTA   |Importado  |Leve  |Joven        |\n",
            "|9         |28  |BOGOTA   |Importado  |Leve  |Adulto       |\n",
            "|10        |36  |BOGOTA   |Importado  |Leve  |Adulto       |\n",
            "+----------+----+---------+-----------+------+-------------+\n",
            "only showing top 10 rows\n",
            "\n"
          ]
        }
      ]
    },
    {
      "cell_type": "code",
      "execution_count": 38,
      "metadata": {
        "id": "dSpAGUo6wI_3"
      },
      "outputs": [],
      "source": [
        "#pandas udf\n",
        "from pyspark.sql.functions import pandas_udf, PandasUDFType, col, desc, avg"
      ]
    },
    {
      "cell_type": "code",
      "source": [
        "# Agrupar por departamento y contar los casos\n",
        "top_departamentos = df.groupBy(\"Nombre departamento\").count().orderBy(desc(\"count\")).limit(10)\n",
        "top_departamentos.show()"
      ],
      "metadata": {
        "colab": {
          "base_uri": "https://localhost:8080/"
        },
        "id": "x2A-1N3DyYrF",
        "outputId": "d21d86e0-61af-497c-bd91-d7b00c96ea29"
      },
      "execution_count": 39,
      "outputs": [
        {
          "output_type": "stream",
          "name": "stdout",
          "text": [
            "+-------------------+-----+\n",
            "|Nombre departamento|count|\n",
            "+-------------------+-----+\n",
            "|             BOGOTA|  401|\n",
            "|              VALLE|  148|\n",
            "|          ANTIOQUIA|  106|\n",
            "|       CUNDINAMARCA|   49|\n",
            "|          CARTAGENA|   39|\n",
            "|          RISARALDA|   34|\n",
            "|       BARRANQUILLA|   31|\n",
            "|              HUILA|   30|\n",
            "|            QUINDIO|   23|\n",
            "|    NORTE SANTANDER|   19|\n",
            "+-------------------+-----+\n",
            "\n"
          ]
        }
      ]
    },
    {
      "cell_type": "code",
      "source": [
        "# Agrupar por ciudad (En el este caso, es Municipio.) y contar los casos\n",
        "top_ciudad = df.groupBy(\"Nombre municipio\").count().orderBy(desc(\"count\")).limit(10)\n",
        "top_ciudad.show()"
      ],
      "metadata": {
        "colab": {
          "base_uri": "https://localhost:8080/"
        },
        "id": "8ThTZ9c1y7bt",
        "outputId": "fda012d4-a400-495d-c11e-f4f85a5a5ca6"
      },
      "execution_count": 40,
      "outputs": [
        {
          "output_type": "stream",
          "name": "stdout",
          "text": [
            "+----------------+-----+\n",
            "|Nombre municipio|count|\n",
            "+----------------+-----+\n",
            "|          BOGOTA|  401|\n",
            "|            CALI|  101|\n",
            "|        MEDELLIN|   63|\n",
            "|       CARTAGENA|   39|\n",
            "|    BARRANQUILLA|   31|\n",
            "|           NEIVA|   27|\n",
            "|         PEREIRA|   25|\n",
            "|         PALMIRA|   22|\n",
            "|      VALLEDUPAR|   16|\n",
            "|         ARMENIA|   15|\n",
            "+----------------+-----+\n",
            "\n"
          ]
        }
      ]
    },
    {
      "cell_type": "code",
      "source": [
        "# Agrupar por Fecha de registro y contar los casos.\n",
        "top_fecha = df.groupBy(\"fecha reporte web\").count().orderBy(desc(\"count\")).limit(10)\n",
        "top_fecha.show()"
      ],
      "metadata": {
        "colab": {
          "base_uri": "https://localhost:8080/"
        },
        "id": "ARR8V5XyzHaD",
        "outputId": "002b6c87-9bd2-4c76-e761-5b49a86660e1"
      },
      "execution_count": 41,
      "outputs": [
        {
          "output_type": "stream",
          "name": "stdout",
          "text": [
            "+-----------------+-----+\n",
            "|fecha reporte web|count|\n",
            "+-----------------+-----+\n",
            "|31/3/2020 0:00:00|  107|\n",
            "|24/3/2020 0:00:00|  105|\n",
            "|30/3/2020 0:00:00|   96|\n",
            "| 1/4/2020 0:00:00|   95|\n",
            "|29/3/2020 0:00:00|   94|\n",
            "|23/3/2020 0:00:00|   73|\n",
            "|28/3/2020 0:00:00|   69|\n",
            "|25/3/2020 0:00:00|   61|\n",
            "|27/3/2020 0:00:00|   49|\n",
            "|20/3/2020 0:00:00|   48|\n",
            "+-----------------+-----+\n",
            "\n"
          ]
        }
      ]
    },
    {
      "cell_type": "code",
      "source": [
        "# Agrupar por Edad y contar los casos.\n",
        "# Edades diferentes en el dataset.\n",
        "edades_diferentes = df.select('Edad').distinct().count()\n",
        "edades = df.groupBy(\"Edad\").count().orderBy(desc(\"count\")).limit(edades_diferentes)\n",
        "edades.show(edades_diferentes)"
      ],
      "metadata": {
        "colab": {
          "base_uri": "https://localhost:8080/"
        },
        "id": "Xj8Wafnnzt0M",
        "outputId": "72b1bb6c-b28d-4e33-81d9-8cd5a217ebc0"
      },
      "execution_count": 42,
      "outputs": [
        {
          "output_type": "stream",
          "name": "stdout",
          "text": [
            "+----+-----+\n",
            "|Edad|count|\n",
            "+----+-----+\n",
            "|  30|   33|\n",
            "|  28|   31|\n",
            "|  32|   30|\n",
            "|  26|   29|\n",
            "|  29|   28|\n",
            "|  33|   28|\n",
            "|  50|   27|\n",
            "|  42|   24|\n",
            "|  35|   23|\n",
            "|  45|   23|\n",
            "|  58|   23|\n",
            "|  38|   22|\n",
            "|  25|   22|\n",
            "|  21|   22|\n",
            "|  31|   21|\n",
            "|  24|   21|\n",
            "|  34|   20|\n",
            "|  47|   20|\n",
            "|  54|   20|\n",
            "|  41|   20|\n",
            "|  37|   20|\n",
            "|  51|   20|\n",
            "|  36|   19|\n",
            "|  57|   18|\n",
            "|  39|   18|\n",
            "|  27|   17|\n",
            "|  44|   16|\n",
            "|  61|   16|\n",
            "|  23|   16|\n",
            "|  22|   15|\n",
            "|  48|   15|\n",
            "|  55|   14|\n",
            "|  49|   14|\n",
            "|  40|   13|\n",
            "|  64|   13|\n",
            "|  62|   13|\n",
            "|  46|   13|\n",
            "|  52|   12|\n",
            "|  43|   12|\n",
            "|  56|   12|\n",
            "|  65|   11|\n",
            "|  53|   11|\n",
            "|  19|   11|\n",
            "|  18|   11|\n",
            "|  63|   10|\n",
            "|  72|    9|\n",
            "|  59|    9|\n",
            "|  60|    9|\n",
            "|  68|    9|\n",
            "|  73|    8|\n",
            "|  70|    8|\n",
            "|  16|    6|\n",
            "|  20|    6|\n",
            "|  69|    6|\n",
            "|  80|    6|\n",
            "|  67|    6|\n",
            "|  74|    6|\n",
            "|  15|    5|\n",
            "|   9|    5|\n",
            "|  84|    5|\n",
            "|  66|    5|\n",
            "|  82|    4|\n",
            "|   2|    4|\n",
            "|  81|    3|\n",
            "|  76|    3|\n",
            "|  17|    3|\n",
            "|  83|    3|\n",
            "|  71|    3|\n",
            "|  79|    3|\n",
            "|  85|    2|\n",
            "|  12|    2|\n",
            "|   6|    2|\n",
            "|  88|    2|\n",
            "|  87|    2|\n",
            "|  77|    2|\n",
            "|   1|    1|\n",
            "|  13|    1|\n",
            "|   3|    1|\n",
            "|   5|    1|\n",
            "|   4|    1|\n",
            "|   8|    1|\n",
            "|  75|    1|\n",
            "+----+-----+\n",
            "\n"
          ]
        }
      ]
    },
    {
      "cell_type": "code",
      "source": [
        "# Obtener los 5 departamentos con más casos\n",
        "top_5_departamentos = df.groupBy(\"Nombre departamento\").count().orderBy(desc(\"count\")).limit(5)\n",
        "\n",
        "# Filtrar el DataFrame original para incluir solo los 5 departamentos principales\n",
        "df_top_5 = df.join(top_5_departamentos, on=\"Nombre departamento\", how=\"inner\")\n",
        "\n",
        "promedio_edad_top_5 = df_top_5.groupBy(\"Nombre departamento\").agg(avg(\"Edad\").alias(\"Promedio_Edad\")).orderBy(desc(\"Promedio_Edad\"))\n",
        "promedio_edad_top_5.show()"
      ],
      "metadata": {
        "colab": {
          "base_uri": "https://localhost:8080/"
        },
        "id": "H9P_D21F0y74",
        "outputId": "acffbcbd-3d08-43f2-906a-f7a8285accad"
      },
      "execution_count": 43,
      "outputs": [
        {
          "output_type": "stream",
          "name": "stdout",
          "text": [
            "+-------------------+------------------+\n",
            "|Nombre departamento|     Promedio_Edad|\n",
            "+-------------------+------------------+\n",
            "|             BOGOTA| 43.01496259351621|\n",
            "|       CUNDINAMARCA|42.734693877551024|\n",
            "|              VALLE| 41.99324324324324|\n",
            "|          ANTIOQUIA|40.386792452830186|\n",
            "|          CARTAGENA| 40.05128205128205|\n",
            "+-------------------+------------------+\n",
            "\n"
          ]
        }
      ]
    },
    {
      "cell_type": "markdown",
      "source": [
        "Con SparkSQL"
      ],
      "metadata": {
        "id": "-bDtnCgS6Tld"
      }
    },
    {
      "cell_type": "code",
      "source": [
        "# Creamos la tabla 'Covid19' con el contenido del dataframe ya establecido antes 'df_with_new_column'.\n",
        "df.createOrReplaceTempView('Covid19')"
      ],
      "metadata": {
        "id": "DGIlcB312mge"
      },
      "execution_count": 44,
      "outputs": []
    },
    {
      "cell_type": "code",
      "source": [
        "# Mostramos el contenido de las 10 primeras entradas de la tabla 'Covid19'.\n",
        "spark.sql('SELECT * from Covid19').show(10)"
      ],
      "metadata": {
        "colab": {
          "base_uri": "https://localhost:8080/"
        },
        "id": "u_oAPimB2vm-",
        "outputId": "a442ecb4-ae34-4fd4-aa23-2fbbf647bb13"
      },
      "execution_count": 45,
      "outputs": [
        {
          "output_type": "stream",
          "name": "stdout",
          "text": [
            "+-----------------+----------+---------------------+----------------------------+-------------------+-------------------------+----------------+----+------------------------+----+----------------+------------------+------+-------------------+--------------------+----------+---------------------------+---------------+--------------------+---------------------+--------------------+------------------+-----------------------+\n",
            "|fecha reporte web|ID de caso|Fecha de notificación|Código DIVIPOLA departamento|Nombre departamento|Código DIVIPOLA municipio|Nombre municipio|Edad|Unidad de medida de edad|Sexo|Tipo de contagio|Ubicación del caso|Estado|Código ISO del país|     Nombre del país|Recuperado|Fecha de inicio de síntomas|Fecha de muerte|Fecha de diagnóstico|Fecha de recuperación|Tipo de recuperación|Pertenencia étnica|Nombre del grupo étnico|\n",
            "+-----------------+----------+---------------------+----------------------------+-------------------+-------------------------+----------------+----+------------------------+----+----------------+------------------+------+-------------------+--------------------+----------+---------------------------+---------------+--------------------+---------------------+--------------------+------------------+-----------------------+\n",
            "| 6/3/2020 0:00:00|         1|     2/3/2020 0:00:00|                          11|             BOGOTA|                    11001|          BOGOTA|  19|                       1|   F|       Importado|              Casa|  Leve|                380|              ITALIA|Recuperado|          27/2/2020 0:00:00|           NULL|    6/3/2020 0:00:00|    13/3/2020 0:00:00|                 PCR|                 6|                   NULL|\n",
            "| 9/3/2020 0:00:00|         2|     6/3/2020 0:00:00|                          76|              VALLE|                    76111|            BUGA|  34|                       1|   M|       Importado|              Casa|  Leve|                724|              ESPAÑA|Recuperado|           4/3/2020 0:00:00|           NULL|    9/3/2020 0:00:00|    19/3/2020 0:00:00|                 PCR|                 5|                   NULL|\n",
            "| 9/3/2020 0:00:00|         3|     7/3/2020 0:00:00|                           5|          ANTIOQUIA|                     5001|        MEDELLIN|  50|                       1|   F|       Importado|              Casa|  Leve|                724|              ESPAÑA|Recuperado|          29/2/2020 0:00:00|           NULL|    9/3/2020 0:00:00|    15/3/2020 0:00:00|                 PCR|                 6|                   NULL|\n",
            "|11/3/2020 0:00:00|         4|     9/3/2020 0:00:00|                           5|          ANTIOQUIA|                     5001|        MEDELLIN|  55|                       1|   M|     Relacionado|              Casa|  Leve|               NULL|                NULL|Recuperado|           6/3/2020 0:00:00|           NULL|   11/3/2020 0:00:00|    26/3/2020 0:00:00|                 PCR|                 6|                   NULL|\n",
            "|11/3/2020 0:00:00|         5|     9/3/2020 0:00:00|                           5|          ANTIOQUIA|                     5001|        MEDELLIN|  25|                       1|   M|     Relacionado|              Casa|  Leve|               NULL|                NULL|Recuperado|           8/3/2020 0:00:00|           NULL|   11/3/2020 0:00:00|    23/3/2020 0:00:00|                 PCR|                 6|                   NULL|\n",
            "|11/3/2020 0:00:00|         6|    10/3/2020 0:00:00|                           5|          ANTIOQUIA|                     5360|          ITAGUI|  27|                       1|   F|     Relacionado|              Casa|  Leve|               NULL|                NULL|Recuperado|           6/3/2020 0:00:00|           NULL|   11/3/2020 0:00:00|    26/3/2020 0:00:00|                 PCR|                 6|                   NULL|\n",
            "|11/3/2020 0:00:00|         7|     8/3/2020 0:00:00|                       13001|          CARTAGENA|                    13001|       CARTAGENA|  85|                       1|   F|       Importado|              Casa|  Leve|                840|ESTADOS UNIDOS DE...|Recuperado|           2/3/2020 0:00:00|           NULL|   11/3/2020 0:00:00|    17/3/2020 0:00:00|                 PCR|                 6|                   NULL|\n",
            "|11/3/2020 0:00:00|         8|     9/3/2020 0:00:00|                          11|             BOGOTA|                    11001|          BOGOTA|  22|                       1|   F|       Importado|              Casa|  Leve|                724|              ESPAÑA|Recuperado|           6/3/2020 0:00:00|           NULL|   11/3/2020 0:00:00|    21/3/2020 0:00:00|                 PCR|                 6|                   NULL|\n",
            "|11/3/2020 0:00:00|         9|     8/3/2020 0:00:00|                          11|             BOGOTA|                    11001|          BOGOTA|  28|                       1|   F|       Importado|              Casa|  Leve|                724|              ESPAÑA|Recuperado|           7/3/2020 0:00:00|           NULL|   11/3/2020 0:00:00|    23/3/2020 0:00:00|                 PCR|                 6|                   NULL|\n",
            "|12/3/2020 0:00:00|        10|    12/3/2020 0:00:00|                          11|             BOGOTA|                    11001|          BOGOTA|  36|                       1|   F|       Importado|              Casa|  Leve|                724|              ESPAÑA|Recuperado|           6/3/2020 0:00:00|           NULL|   12/3/2020 0:00:00|    21/3/2020 0:00:00|                 PCR|                 6|                   NULL|\n",
            "+-----------------+----------+---------------------+----------------------------+-------------------+-------------------------+----------------+----+------------------------+----+----------------+------------------+------+-------------------+--------------------+----------+---------------------------+---------------+--------------------+---------------------+--------------------+------------------+-----------------------+\n",
            "only showing top 10 rows\n",
            "\n"
          ]
        }
      ]
    },
    {
      "cell_type": "code",
      "source": [
        "# Realizamos la query para optener los 10 departamentos con más casos de covid en colombia ordenados de mayor a menor.\n",
        "spark.sql('SELECT `Nombre departamento`, COUNT(*) as Total_Casos FROM Covid19 GROUP BY `Nombre departamento` ORDER BY Total_Casos DESC LIMIT 10').show()"
      ],
      "metadata": {
        "colab": {
          "base_uri": "https://localhost:8080/"
        },
        "id": "4FdeSCtM22Z5",
        "outputId": "f5f0b9f7-84a0-45a5-e50e-e674be00f433"
      },
      "execution_count": 46,
      "outputs": [
        {
          "output_type": "stream",
          "name": "stdout",
          "text": [
            "+-------------------+-----------+\n",
            "|Nombre departamento|Total_Casos|\n",
            "+-------------------+-----------+\n",
            "|             BOGOTA|        401|\n",
            "|              VALLE|        148|\n",
            "|          ANTIOQUIA|        106|\n",
            "|       CUNDINAMARCA|         49|\n",
            "|          CARTAGENA|         39|\n",
            "|          RISARALDA|         34|\n",
            "|       BARRANQUILLA|         31|\n",
            "|              HUILA|         30|\n",
            "|            QUINDIO|         23|\n",
            "|    NORTE SANTANDER|         19|\n",
            "+-------------------+-----------+\n",
            "\n"
          ]
        }
      ]
    },
    {
      "cell_type": "code",
      "source": [
        "# Realizamos la query para optener las 10 ciudades (municipios) con más casos de covid en Colombia Ordenados de mayor a menor.\n",
        "spark.sql('SELECT `Nombre municipio`, COUNT(*) as Total_Casos FROM Covid19 GROUP BY `Nombre municipio` ORDER BY Total_Casos DESC LIMIT 10').show()"
      ],
      "metadata": {
        "colab": {
          "base_uri": "https://localhost:8080/"
        },
        "id": "Yidp74X75DiL",
        "outputId": "8037562e-85f0-46fd-f2e6-4c240dabd0d0"
      },
      "execution_count": 47,
      "outputs": [
        {
          "output_type": "stream",
          "name": "stdout",
          "text": [
            "+----------------+-----------+\n",
            "|Nombre municipio|Total_Casos|\n",
            "+----------------+-----------+\n",
            "|          BOGOTA|        401|\n",
            "|            CALI|        101|\n",
            "|        MEDELLIN|         63|\n",
            "|       CARTAGENA|         39|\n",
            "|    BARRANQUILLA|         31|\n",
            "|           NEIVA|         27|\n",
            "|         PEREIRA|         25|\n",
            "|         PALMIRA|         22|\n",
            "|      VALLEDUPAR|         16|\n",
            "|         ARMENIA|         15|\n",
            "+----------------+-----------+\n",
            "\n"
          ]
        }
      ]
    },
    {
      "cell_type": "code",
      "source": [
        "# Realizamos la query para optener los 10 días con más casos de covid en Colombia Ordenados de mayor a menor.\n",
        "spark.sql('SELECT `fecha reporte web`, COUNT(*) as Total_Casos FROM Covid19 GROUP BY `fecha reporte web` ORDER BY Total_Casos DESC LIMIT 10').show()"
      ],
      "metadata": {
        "colab": {
          "base_uri": "https://localhost:8080/"
        },
        "id": "0AKSRAbt6ogf",
        "outputId": "1722434b-a7cf-4297-9900-fb554613694c"
      },
      "execution_count": 48,
      "outputs": [
        {
          "output_type": "stream",
          "name": "stdout",
          "text": [
            "+-----------------+-----------+\n",
            "|fecha reporte web|Total_Casos|\n",
            "+-----------------+-----------+\n",
            "|31/3/2020 0:00:00|        107|\n",
            "|24/3/2020 0:00:00|        105|\n",
            "|30/3/2020 0:00:00|         96|\n",
            "| 1/4/2020 0:00:00|         95|\n",
            "|29/3/2020 0:00:00|         94|\n",
            "|23/3/2020 0:00:00|         73|\n",
            "|28/3/2020 0:00:00|         69|\n",
            "|25/3/2020 0:00:00|         61|\n",
            "|27/3/2020 0:00:00|         49|\n",
            "|20/3/2020 0:00:00|         48|\n",
            "+-----------------+-----------+\n",
            "\n"
          ]
        }
      ]
    },
    {
      "cell_type": "code",
      "source": [
        "# Realizar la query para optener la distribución de los casos pro edades de covid en Colombia.\n",
        "spark.sql('SELECT Edad, COUNT(*) as Total_Casos FROM Covid19 GROUP BY Edad ORDER BY Edad').show()"
      ],
      "metadata": {
        "colab": {
          "base_uri": "https://localhost:8080/"
        },
        "id": "WTThcaY468H_",
        "outputId": "05a1b56c-760d-4778-e910-7d932d93346f"
      },
      "execution_count": 49,
      "outputs": [
        {
          "output_type": "stream",
          "name": "stdout",
          "text": [
            "+----+-----------+\n",
            "|Edad|Total_Casos|\n",
            "+----+-----------+\n",
            "|   1|          1|\n",
            "|   2|          4|\n",
            "|   3|          1|\n",
            "|   4|          1|\n",
            "|   5|          1|\n",
            "|   6|          2|\n",
            "|   8|          1|\n",
            "|   9|          5|\n",
            "|  12|          2|\n",
            "|  13|          1|\n",
            "|  15|          5|\n",
            "|  16|          6|\n",
            "|  17|          3|\n",
            "|  18|         11|\n",
            "|  19|         11|\n",
            "|  20|          6|\n",
            "|  21|         22|\n",
            "|  22|         15|\n",
            "|  23|         16|\n",
            "|  24|         21|\n",
            "+----+-----------+\n",
            "only showing top 20 rows\n",
            "\n"
          ]
        }
      ]
    },
    {
      "cell_type": "code",
      "source": [
        "# Realizar query para optener el promedio de eddes de los casos registados en los 5 departamentos con más casos.\n",
        "query = \"\"\"\n",
        "  SELECT `Nombre departamento`, Promedio_Edad\n",
        "    FROM (SELECT cd.`Nombre departamento`, COUNT(*) AS total_casos, AVG(cd.Edad) AS Promedio_Edad\n",
        "    FROM Covid19 cd\n",
        "    GROUP BY cd.`Nombre departamento`\n",
        "    ORDER BY total_casos DESC\n",
        "    LIMIT 5\n",
        "  ) subquery\n",
        "\"\"\"\n",
        "result = spark.sql(query)\n",
        "result.show()"
      ],
      "metadata": {
        "colab": {
          "base_uri": "https://localhost:8080/"
        },
        "id": "fUGGbilx7ClB",
        "outputId": "ecd459bd-5c72-46f3-bd67-b636adfa59d8"
      },
      "execution_count": 50,
      "outputs": [
        {
          "output_type": "stream",
          "name": "stdout",
          "text": [
            "+-------------------+------------------+\n",
            "|Nombre departamento|     Promedio_Edad|\n",
            "+-------------------+------------------+\n",
            "|             BOGOTA| 43.01496259351621|\n",
            "|              VALLE| 41.99324324324324|\n",
            "|          ANTIOQUIA|40.386792452830186|\n",
            "|       CUNDINAMARCA|42.734693877551024|\n",
            "|          CARTAGENA| 40.05128205128205|\n",
            "+-------------------+------------------+\n",
            "\n"
          ]
        }
      ]
    },
    {
      "cell_type": "code",
      "source": [
        "#target directory\n",
        "direc='/content/gdrive/MyDrive/st0263-labs/datasets/lab4/df.csv'"
      ],
      "metadata": {
        "id": "098lPGPE8GVY"
      },
      "execution_count": 51,
      "outputs": []
    },
    {
      "cell_type": "code",
      "source": [
        "#save the dataframe as single csv\n",
        "df_rename.coalesce(1).write.format(\"csv\").option(\"header\",\"true\").save(direc)"
      ],
      "metadata": {
        "id": "Vlo_z6y69IoP"
      },
      "execution_count": 97,
      "outputs": []
    },
    {
      "cell_type": "code",
      "execution_count": null,
      "metadata": {
        "id": "NnYYB8MVwI_-"
      },
      "outputs": [],
      "source": []
    }
  ],
  "metadata": {
    "kernelspec": {
      "display_name": "Python 3.10.8 64-bit",
      "language": "python",
      "name": "python3"
    },
    "language_info": {
      "codemirror_mode": {
        "name": "ipython",
        "version": 3
      },
      "file_extension": ".py",
      "mimetype": "text/x-python",
      "name": "python",
      "nbconvert_exporter": "python",
      "pygments_lexer": "ipython3",
      "version": "3.10.8"
    },
    "vscode": {
      "interpreter": {
        "hash": "aee8b7b246df8f9039afb4144a1f6fd8d2ca17a180786b69acc140d282b71a49"
      }
    },
    "colab": {
      "provenance": []
    }
  },
  "nbformat": 4,
  "nbformat_minor": 0
}