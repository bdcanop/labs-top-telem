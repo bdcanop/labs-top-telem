{
 "cells": [
  {
   "cell_type": "markdown",
   "metadata": {
    "id": "JwhMZbRowI_u"
   },
   "source": [
    "# Data Processing using Pyspark"
   ]
  },
  {
   "cell_type": "code",
   "execution_count": 1,
   "metadata": {},
   "outputs": [
    {
     "name": "stdout",
     "output_type": "stream",
     "text": [
      "Starting Spark application\n"
     ]
    },
    {
     "data": {
      "text/html": [
       "<table>\n",
       "<tr><th>ID</th><th>YARN Application ID</th><th>Kind</th><th>State</th><th>Spark UI</th><th>Driver log</th><th>User</th><th>Current session?</th></tr><tr><td>2</td><td>application_1732476635538_0003</td><td>pyspark</td><td>idle</td><td><a target=\"_blank\" href=\"http://ip-172-31-15-31.ec2.internal:20888/proxy/application_1732476635538_0003/\">Link</a></td><td><a target=\"_blank\" href=\"http://ip-172-31-6-90.ec2.internal:8042/node/containerlogs/container_1732476635538_0003_01_000001/livy\">Link</a></td><td>None</td><td>✔</td></tr></table>"
      ],
      "text/plain": [
       "<IPython.core.display.HTML object>"
      ]
     },
     "metadata": {},
     "output_type": "display_data"
    },
    {
     "data": {
      "application/vnd.jupyter.widget-view+json": {
       "model_id": "",
       "version_major": 2,
       "version_minor": 0
      },
      "text/plain": [
       "FloatProgress(value=0.0, bar_style='info', description='Progress:', layout=Layout(height='25px', width='50%'),…"
      ]
     },
     "metadata": {},
     "output_type": "display_data"
    },
    {
     "name": "stdout",
     "output_type": "stream",
     "text": [
      "SparkSession available as 'spark'.\n"
     ]
    },
    {
     "data": {
      "application/vnd.jupyter.widget-view+json": {
       "model_id": "",
       "version_major": 2,
       "version_minor": 0
      },
      "text/plain": [
       "FloatProgress(value=0.0, bar_style='info', description='Progress:', layout=Layout(height='25px', width='50%'),…"
      ]
     },
     "metadata": {},
     "output_type": "display_data"
    },
    {
     "name": "stdout",
     "output_type": "stream",
     "text": [
      "<pyspark.sql.session.SparkSession object at 0x7f4c22001d90>"
     ]
    }
   ],
   "source": [
    "spark"
   ]
  },
  {
   "cell_type": "code",
   "execution_count": 2,
   "metadata": {},
   "outputs": [
    {
     "data": {
      "application/vnd.jupyter.widget-view+json": {
       "model_id": "",
       "version_major": 2,
       "version_minor": 0
      },
      "text/plain": [
       "FloatProgress(value=0.0, bar_style='info', description='Progress:', layout=Layout(height='25px', width='50%'),…"
      ]
     },
     "metadata": {},
     "output_type": "display_data"
    },
    {
     "name": "stdout",
     "output_type": "stream",
     "text": [
      "<SparkContext master=yarn appName=livy-session-2>"
     ]
    }
   ],
   "source": [
    "sc"
   ]
  },
  {
   "cell_type": "code",
   "execution_count": 3,
   "metadata": {
    "id": "m6QOf2wHwI_0"
   },
   "outputs": [
    {
     "data": {
      "application/vnd.jupyter.widget-view+json": {
       "model_id": "",
       "version_major": 2,
       "version_minor": 0
      },
      "text/plain": [
       "FloatProgress(value=0.0, bar_style='info', description='Progress:', layout=Layout(height='25px', width='50%'),…"
      ]
     },
     "metadata": {},
     "output_type": "display_data"
    }
   ],
   "source": [
    "# Load csv Dataset\n",
    "#df=spark.read.csv('s3://<bucket/dir>/sample_data.csv',inferSchema=True,header=True)\n",
    "df=spark.read.csv('s3://lab4-covid19/Raw/Covid19-Colombia.csv',inferSchema=True,header=True)"
   ]
  },
  {
   "cell_type": "code",
   "execution_count": 4,
   "metadata": {
    "colab": {
     "base_uri": "https://localhost:8080/"
    },
    "id": "JQk3f9j2wI_0",
    "outputId": "c7f57fdf-a24f-43fd-a5b9-a77199f3bbff"
   },
   "outputs": [
    {
     "data": {
      "application/vnd.jupyter.widget-view+json": {
       "model_id": "",
       "version_major": 2,
       "version_minor": 0
      },
      "text/plain": [
       "FloatProgress(value=0.0, bar_style='info', description='Progress:', layout=Layout(height='25px', width='50%'),…"
      ]
     },
     "metadata": {},
     "output_type": "display_data"
    },
    {
     "name": "stdout",
     "output_type": "stream",
     "text": [
      "['fecha reporte web', 'ID de caso', 'Fecha de notificación', 'Código DIVIPOLA departamento', 'Nombre departamento', 'Código DIVIPOLA municipio', 'Nombre municipio', 'Edad', 'Unidad de medida de edad', 'Sexo', 'Tipo de contagio', 'Ubicación del caso', 'Estado', 'Código ISO del país', 'Nombre del país', 'Recuperado', 'Fecha de inicio de síntomas', 'Fecha de muerte', 'Fecha de diagnóstico', 'Fecha de recuperación', 'Tipo de recuperación', 'Pertenencia étnica', 'Nombre del grupo étnico']"
     ]
    }
   ],
   "source": [
    "#columns of dataframe\n",
    "df.columns"
   ]
  },
  {
   "cell_type": "code",
   "execution_count": 5,
   "metadata": {
    "colab": {
     "base_uri": "https://localhost:8080/"
    },
    "id": "T_Hn1ty-wI_1",
    "outputId": "bd59ffc9-2c79-4db2-fb25-4b83283757b1"
   },
   "outputs": [
    {
     "data": {
      "application/vnd.jupyter.widget-view+json": {
       "model_id": "",
       "version_major": 2,
       "version_minor": 0
      },
      "text/plain": [
       "FloatProgress(value=0.0, bar_style='info', description='Progress:', layout=Layout(height='25px', width='50%'),…"
      ]
     },
     "metadata": {},
     "output_type": "display_data"
    },
    {
     "name": "stdout",
     "output_type": "stream",
     "text": [
      "23"
     ]
    }
   ],
   "source": [
    "#check number of columns\n",
    "len(df.columns)"
   ]
  },
  {
   "cell_type": "code",
   "execution_count": 6,
   "metadata": {
    "colab": {
     "base_uri": "https://localhost:8080/"
    },
    "id": "YLHhE8NvwI_1",
    "outputId": "67f64117-84b3-432d-88c2-42e87d45a23c"
   },
   "outputs": [
    {
     "data": {
      "application/vnd.jupyter.widget-view+json": {
       "model_id": "",
       "version_major": 2,
       "version_minor": 0
      },
      "text/plain": [
       "FloatProgress(value=0.0, bar_style='info', description='Progress:', layout=Layout(height='25px', width='50%'),…"
      ]
     },
     "metadata": {},
     "output_type": "display_data"
    },
    {
     "name": "stdout",
     "output_type": "stream",
     "text": [
      "1000"
     ]
    }
   ],
   "source": [
    "#number of records in dataframe\n",
    "df.count()"
   ]
  },
  {
   "cell_type": "code",
   "execution_count": 7,
   "metadata": {
    "colab": {
     "base_uri": "https://localhost:8080/"
    },
    "id": "kP8Kwq0DwI_1",
    "outputId": "5cf507e2-4e6f-4d6c-80d5-facf87a2bd86"
   },
   "outputs": [
    {
     "data": {
      "application/vnd.jupyter.widget-view+json": {
       "model_id": "",
       "version_major": 2,
       "version_minor": 0
      },
      "text/plain": [
       "FloatProgress(value=0.0, bar_style='info', description='Progress:', layout=Layout(height='25px', width='50%'),…"
      ]
     },
     "metadata": {},
     "output_type": "display_data"
    },
    {
     "name": "stdout",
     "output_type": "stream",
     "text": [
      "(1000, 23)"
     ]
    }
   ],
   "source": [
    "#shape of dataset\n",
    "print((df.count(),len(df.columns)))"
   ]
  },
  {
   "cell_type": "code",
   "execution_count": 8,
   "metadata": {
    "colab": {
     "base_uri": "https://localhost:8080/"
    },
    "id": "2KUCbwRCwI_1",
    "outputId": "5eac581c-16cb-4b0c-bbfc-1573d39bd6a9"
   },
   "outputs": [
    {
     "data": {
      "application/vnd.jupyter.widget-view+json": {
       "model_id": "",
       "version_major": 2,
       "version_minor": 0
      },
      "text/plain": [
       "FloatProgress(value=0.0, bar_style='info', description='Progress:', layout=Layout(height='25px', width='50%'),…"
      ]
     },
     "metadata": {},
     "output_type": "display_data"
    },
    {
     "name": "stdout",
     "output_type": "stream",
     "text": [
      "root\n",
      " |-- fecha reporte web: string (nullable = true)\n",
      " |-- ID de caso: integer (nullable = true)\n",
      " |-- Fecha de notificación: string (nullable = true)\n",
      " |-- Código DIVIPOLA departamento: integer (nullable = true)\n",
      " |-- Nombre departamento: string (nullable = true)\n",
      " |-- Código DIVIPOLA municipio: integer (nullable = true)\n",
      " |-- Nombre municipio: string (nullable = true)\n",
      " |-- Edad: integer (nullable = true)\n",
      " |-- Unidad de medida de edad: integer (nullable = true)\n",
      " |-- Sexo: string (nullable = true)\n",
      " |-- Tipo de contagio: string (nullable = true)\n",
      " |-- Ubicación del caso: string (nullable = true)\n",
      " |-- Estado: string (nullable = true)\n",
      " |-- Código ISO del país: integer (nullable = true)\n",
      " |-- Nombre del país: string (nullable = true)\n",
      " |-- Recuperado: string (nullable = true)\n",
      " |-- Fecha de inicio de síntomas: string (nullable = true)\n",
      " |-- Fecha de muerte: string (nullable = true)\n",
      " |-- Fecha de diagnóstico: string (nullable = true)\n",
      " |-- Fecha de recuperación: string (nullable = true)\n",
      " |-- Tipo de recuperación: string (nullable = true)\n",
      " |-- Pertenencia étnica: integer (nullable = true)\n",
      " |-- Nombre del grupo étnico: string (nullable = true)"
     ]
    }
   ],
   "source": [
    "#printSchema\n",
    "df.printSchema()"
   ]
  },
  {
   "cell_type": "code",
   "execution_count": 9,
   "metadata": {
    "colab": {
     "base_uri": "https://localhost:8080/"
    },
    "id": "JyJNqTA_wI_2",
    "outputId": "fe3714a9-47ae-4caa-e34b-9229333db521"
   },
   "outputs": [
    {
     "data": {
      "application/vnd.jupyter.widget-view+json": {
       "model_id": "",
       "version_major": 2,
       "version_minor": 0
      },
      "text/plain": [
       "FloatProgress(value=0.0, bar_style='info', description='Progress:', layout=Layout(height='25px', width='50%'),…"
      ]
     },
     "metadata": {},
     "output_type": "display_data"
    },
    {
     "name": "stdout",
     "output_type": "stream",
     "text": [
      "+-----------------+----------+---------------------+----------------------------+-------------------+-------------------------+----------------+----+------------------------+----+----------------+------------------+------+-------------------+---------------+----------+---------------------------+---------------+--------------------+---------------------+--------------------+------------------+-----------------------+\n",
      "|fecha reporte web|ID de caso|Fecha de notificación|Código DIVIPOLA departamento|Nombre departamento|Código DIVIPOLA municipio|Nombre municipio|Edad|Unidad de medida de edad|Sexo|Tipo de contagio|Ubicación del caso|Estado|Código ISO del país|Nombre del país|Recuperado|Fecha de inicio de síntomas|Fecha de muerte|Fecha de diagnóstico|Fecha de recuperación|Tipo de recuperación|Pertenencia étnica|Nombre del grupo étnico|\n",
      "+-----------------+----------+---------------------+----------------------------+-------------------+-------------------------+----------------+----+------------------------+----+----------------+------------------+------+-------------------+---------------+----------+---------------------------+---------------+--------------------+---------------------+--------------------+------------------+-----------------------+\n",
      "| 6/3/2020 0:00:00|         1|     2/3/2020 0:00:00|                          11|             BOGOTA|                    11001|          BOGOTA|  19|                       1|   F|       Importado|              Casa|  Leve|                380|         ITALIA|Recuperado|          27/2/2020 0:00:00|           NULL|    6/3/2020 0:00:00|    13/3/2020 0:00:00|                 PCR|                 6|                   NULL|\n",
      "| 9/3/2020 0:00:00|         2|     6/3/2020 0:00:00|                          76|              VALLE|                    76111|            BUGA|  34|                       1|   M|       Importado|              Casa|  Leve|                724|         ESPAÑA|Recuperado|           4/3/2020 0:00:00|           NULL|    9/3/2020 0:00:00|    19/3/2020 0:00:00|                 PCR|                 5|                   NULL|\n",
      "| 9/3/2020 0:00:00|         3|     7/3/2020 0:00:00|                           5|          ANTIOQUIA|                     5001|        MEDELLIN|  50|                       1|   F|       Importado|              Casa|  Leve|                724|         ESPAÑA|Recuperado|          29/2/2020 0:00:00|           NULL|    9/3/2020 0:00:00|    15/3/2020 0:00:00|                 PCR|                 6|                   NULL|\n",
      "|11/3/2020 0:00:00|         4|     9/3/2020 0:00:00|                           5|          ANTIOQUIA|                     5001|        MEDELLIN|  55|                       1|   M|     Relacionado|              Casa|  Leve|               NULL|           NULL|Recuperado|           6/3/2020 0:00:00|           NULL|   11/3/2020 0:00:00|    26/3/2020 0:00:00|                 PCR|                 6|                   NULL|\n",
      "|11/3/2020 0:00:00|         5|     9/3/2020 0:00:00|                           5|          ANTIOQUIA|                     5001|        MEDELLIN|  25|                       1|   M|     Relacionado|              Casa|  Leve|               NULL|           NULL|Recuperado|           8/3/2020 0:00:00|           NULL|   11/3/2020 0:00:00|    23/3/2020 0:00:00|                 PCR|                 6|                   NULL|\n",
      "+-----------------+----------+---------------------+----------------------------+-------------------+-------------------------+----------------+----+------------------------+----+----------------+------------------+------+-------------------+---------------+----------+---------------------------+---------------+--------------------+---------------------+--------------------+------------------+-----------------------+\n",
      "only showing top 5 rows"
     ]
    }
   ],
   "source": [
    "#fisrt few rows of dataframe\n",
    "df.show(5)"
   ]
  },
  {
   "cell_type": "code",
   "execution_count": 10,
   "metadata": {
    "colab": {
     "base_uri": "https://localhost:8080/"
    },
    "id": "Soi5vkgMwI_2",
    "outputId": "2e69866d-6841-4a07-a990-987f86b84a4a"
   },
   "outputs": [
    {
     "data": {
      "application/vnd.jupyter.widget-view+json": {
       "model_id": "",
       "version_major": 2,
       "version_minor": 0
      },
      "text/plain": [
       "FloatProgress(value=0.0, bar_style='info', description='Progress:', layout=Layout(height='25px', width='50%'),…"
      ]
     },
     "metadata": {},
     "output_type": "display_data"
    },
    {
     "name": "stdout",
     "output_type": "stream",
     "text": [
      "+----+----------------+\n",
      "|Edad|Nombre municipio|\n",
      "+----+----------------+\n",
      "|  19|          BOGOTA|\n",
      "|  34|            BUGA|\n",
      "|  50|        MEDELLIN|\n",
      "|  55|        MEDELLIN|\n",
      "|  25|        MEDELLIN|\n",
      "+----+----------------+\n",
      "only showing top 5 rows"
     ]
    }
   ],
   "source": [
    "#select only 2 columns\n",
    "df.select('Edad','Nombre municipio').show(5)"
   ]
  },
  {
   "cell_type": "code",
   "execution_count": 11,
   "metadata": {
    "colab": {
     "base_uri": "https://localhost:8080/"
    },
    "id": "84Wu41DWwI_2",
    "outputId": "58b46ba7-4073-4166-d8ba-434bed4f431e"
   },
   "outputs": [
    {
     "data": {
      "application/vnd.jupyter.widget-view+json": {
       "model_id": "",
       "version_major": 2,
       "version_minor": 0
      },
      "text/plain": [
       "FloatProgress(value=0.0, bar_style='info', description='Progress:', layout=Layout(height='25px', width='50%'),…"
      ]
     },
     "metadata": {},
     "output_type": "display_data"
    },
    {
     "name": "stdout",
     "output_type": "stream",
     "text": [
      "+-------+-----------------+-----------------+---------------------+----------------------------+-------------------+-------------------------+----------------+-----------------+------------------------+----+----------------+------------------+---------+-------------------+---------------+----------+---------------------------+----------------+--------------------+---------------------+--------------------+------------------+-----------------------+\n",
      "|summary|fecha reporte web|       ID de caso|Fecha de notificación|Código DIVIPOLA departamento|Nombre departamento|Código DIVIPOLA municipio|Nombre municipio|             Edad|Unidad de medida de edad|Sexo|Tipo de contagio|Ubicación del caso|   Estado|Código ISO del país|Nombre del país|Recuperado|Fecha de inicio de síntomas| Fecha de muerte|Fecha de diagnóstico|Fecha de recuperación|Tipo de recuperación|Pertenencia étnica|Nombre del grupo étnico|\n",
      "+-------+-----------------+-----------------+---------------------+----------------------------+-------------------+-------------------------+----------------+-----------------+------------------------+----+----------------+------------------+---------+-------------------+---------------+----------+---------------------------+----------------+--------------------+---------------------+--------------------+------------------+-----------------------+\n",
      "|  count|             1000|             1000|                 1000|                        1000|               1000|                     1000|            1000|             1000|                    1000|1000|            1000|              1000|     1000|                477|            477|      1000|                        956|              52|                1000|                  950|                 950|              1000|                     14|\n",
      "|   mean|             NULL|            500.5|                 NULL|                    1299.711|               NULL|                28988.072|            NULL|           42.128|                   1.001|NULL|            NULL|              NULL|     NULL|   640.125786163522|           NULL|      NULL|                       NULL|            NULL|                NULL|                 NULL|                NULL|               5.9|                   NULL|\n",
      "| stddev|             NULL|288.8194360957494|                 NULL|           5587.488777287644|               NULL|       26747.800488409954|            NULL|16.90068783361342|    0.031622776601683805|NULL|            NULL|              NULL|     NULL| 219.64837471365254|           NULL|      NULL|                       NULL|            NULL|                NULL|                 NULL|                NULL|0.6134952130020056|                   NULL|\n",
      "|    min| 1/4/2020 0:00:00|                1|     1/4/2020 0:00:00|                           5|          ANTIOQUIA|                     5001|        ANAPOIMA|                1|                       1|   F|     Comunitaria|              Casa|Fallecido|                 32|       ALEMANIA| Fallecido|          10/3/2020 0:00:00|1/4/2020 0:00:00|    1/4/2020 0:00:00|    1/10/2020 0:00:00|                 PCR|                 1|              NASA_PAÉZ|\n",
      "|    max| 9/3/2020 0:00:00|             1000|     9/3/2020 0:00:00|                       47001|              VALLE|                    88001|       ZIPAQUIRA|               88|                       2|   M|     Relacionado|               N/A|      N/A|                862|      VENEZUELA|Recuperado|           9/3/2020 0:00:00|9/4/2020 0:00:00|    9/3/2020 0:00:00|     9/6/2020 0:00:00|              Tiempo|                 6|                   ZENU|\n",
      "+-------+-----------------+-----------------+---------------------+----------------------------+-------------------+-------------------------+----------------+-----------------+------------------------+----+----------------+------------------+---------+-------------------+---------------+----------+---------------------------+----------------+--------------------+---------------------+--------------------+------------------+-----------------------+"
     ]
    }
   ],
   "source": [
    "#info about dataframe\n",
    "df.describe().show()"
   ]
  },
  {
   "cell_type": "code",
   "execution_count": 12,
   "metadata": {
    "colab": {
     "base_uri": "https://localhost:8080/"
    },
    "id": "XhrgSFBBhQlE",
    "outputId": "15b2a79c-92dd-4bdf-dc63-5800e73d62d8"
   },
   "outputs": [
    {
     "data": {
      "application/vnd.jupyter.widget-view+json": {
       "model_id": "",
       "version_major": 2,
       "version_minor": 0
      },
      "text/plain": [
       "FloatProgress(value=0.0, bar_style='info', description='Progress:', layout=Layout(height='25px', width='50%'),…"
      ]
     },
     "metadata": {},
     "output_type": "display_data"
    },
    {
     "name": "stdout",
     "output_type": "stream",
     "text": [
      "+----------+----+----------------+----------------+------+\n",
      "|ID de caso|Edad|Nombre municipio|Tipo de contagio|Estado|\n",
      "+----------+----+----------------+----------------+------+\n",
      "|         1|  19|          BOGOTA|       Importado|  Leve|\n",
      "|         2|  34|            BUGA|       Importado|  Leve|\n",
      "|         3|  50|        MEDELLIN|       Importado|  Leve|\n",
      "|         4|  55|        MEDELLIN|     Relacionado|  Leve|\n",
      "|         5|  25|        MEDELLIN|     Relacionado|  Leve|\n",
      "|         6|  27|          ITAGUI|     Relacionado|  Leve|\n",
      "|         7|  85|       CARTAGENA|       Importado|  Leve|\n",
      "|         8|  22|          BOGOTA|       Importado|  Leve|\n",
      "|         9|  28|          BOGOTA|       Importado|  Leve|\n",
      "|        10|  36|          BOGOTA|       Importado|  Leve|\n",
      "+----------+----+----------------+----------------+------+\n",
      "only showing top 10 rows"
     ]
    }
   ],
   "source": [
    "# Seleccionamos algunas columnas del dataset, imprimimos 10 filas.\n",
    "nuevo_df = df.select('ID de caso', 'Edad','Nombre municipio', 'Tipo de contagio', 'Estado')\n",
    "nuevo_df.show(10)"
   ]
  },
  {
   "cell_type": "code",
   "execution_count": 13,
   "metadata": {
    "colab": {
     "base_uri": "https://localhost:8080/"
    },
    "id": "UanCAXDpkDHw",
    "outputId": "a3507fa1-2d58-4448-a2aa-9b5e8af9a34b"
   },
   "outputs": [
    {
     "data": {
      "application/vnd.jupyter.widget-view+json": {
       "model_id": "",
       "version_major": 2,
       "version_minor": 0
      },
      "text/plain": [
       "FloatProgress(value=0.0, bar_style='info', description='Progress:', layout=Layout(height='25px', width='50%'),…"
      ]
     },
     "metadata": {},
     "output_type": "display_data"
    },
    {
     "name": "stdout",
     "output_type": "stream",
     "text": [
      "+----------+----+---------+-----------+------+\n",
      "|ID de caso|Edad|Municipio|   Contagio|Estado|\n",
      "+----------+----+---------+-----------+------+\n",
      "|         1|  19|   BOGOTA|  Importado|  Leve|\n",
      "|         2|  34|     BUGA|  Importado|  Leve|\n",
      "|         3|  50| MEDELLIN|  Importado|  Leve|\n",
      "|         4|  55| MEDELLIN|Relacionado|  Leve|\n",
      "|         5|  25| MEDELLIN|Relacionado|  Leve|\n",
      "|         6|  27|   ITAGUI|Relacionado|  Leve|\n",
      "|         7|  85|CARTAGENA|  Importado|  Leve|\n",
      "|         8|  22|   BOGOTA|  Importado|  Leve|\n",
      "|         9|  28|   BOGOTA|  Importado|  Leve|\n",
      "|        10|  36|   BOGOTA|  Importado|  Leve|\n",
      "+----------+----+---------+-----------+------+\n",
      "only showing top 10 rows"
     ]
    }
   ],
   "source": [
    "# Renombramos dos columnas 'Nombre municipio', 'Tipo de contagio'\n",
    "df_rename=nuevo_df.withColumnRenamed('Nombre municipio','Municipio').withColumnRenamed('Tipo de contagio','Contagio')\n",
    "df_rename.show(10)"
   ]
  },
  {
   "cell_type": "code",
   "execution_count": 14,
   "metadata": {
    "id": "46zH9o4iwI_2"
   },
   "outputs": [
    {
     "data": {
      "application/vnd.jupyter.widget-view+json": {
       "model_id": "",
       "version_major": 2,
       "version_minor": 0
      },
      "text/plain": [
       "FloatProgress(value=0.0, bar_style='info', description='Progress:', layout=Layout(height='25px', width='50%'),…"
      ]
     },
     "metadata": {},
     "output_type": "display_data"
    }
   ],
   "source": [
    "from pyspark.sql.types import StringType, DoubleType, IntegerType"
   ]
  },
  {
   "cell_type": "code",
   "execution_count": 15,
   "metadata": {
    "colab": {
     "base_uri": "https://localhost:8080/"
    },
    "id": "Hstx4cjOwI_2",
    "outputId": "a29bedcf-221b-47ad-c56a-d5da3525cda0"
   },
   "outputs": [
    {
     "data": {
      "application/vnd.jupyter.widget-view+json": {
       "model_id": "",
       "version_major": 2,
       "version_minor": 0
      },
      "text/plain": [
       "FloatProgress(value=0.0, bar_style='info', description='Progress:', layout=Layout(height='25px', width='50%'),…"
      ]
     },
     "metadata": {},
     "output_type": "display_data"
    },
    {
     "name": "stdout",
     "output_type": "stream",
     "text": [
      "+----------+----+---------+-----------+------+-----------+\n",
      "|ID de caso|Edad|Municipio|Contagio   |Estado|Edad mas 10|\n",
      "+----------+----+---------+-----------+------+-----------+\n",
      "|1         |19  |BOGOTA   |Importado  |Leve  |29         |\n",
      "|2         |34  |BUGA     |Importado  |Leve  |44         |\n",
      "|3         |50  |MEDELLIN |Importado  |Leve  |60         |\n",
      "|4         |55  |MEDELLIN |Relacionado|Leve  |65         |\n",
      "|5         |25  |MEDELLIN |Relacionado|Leve  |35         |\n",
      "|6         |27  |ITAGUI   |Relacionado|Leve  |37         |\n",
      "|7         |85  |CARTAGENA|Importado  |Leve  |95         |\n",
      "|8         |22  |BOGOTA   |Importado  |Leve  |32         |\n",
      "|9         |28  |BOGOTA   |Importado  |Leve  |38         |\n",
      "|10        |36  |BOGOTA   |Importado  |Leve  |46         |\n",
      "+----------+----+---------+-----------+------+-----------+\n",
      "only showing top 10 rows"
     ]
    }
   ],
   "source": [
    "#with column\n",
    "df_rename.withColumn(\"Edad mas 10\",(df[\"Edad\"]+10)).show(10,False)"
   ]
  },
  {
   "cell_type": "code",
   "execution_count": 16,
   "metadata": {
    "colab": {
     "base_uri": "https://localhost:8080/"
    },
    "id": "H0ZJUxPDwI_2",
    "outputId": "64d8dcbc-23c0-4e23-8908-969501613cd1"
   },
   "outputs": [
    {
     "data": {
      "application/vnd.jupyter.widget-view+json": {
       "model_id": "",
       "version_major": 2,
       "version_minor": 0
      },
      "text/plain": [
       "FloatProgress(value=0.0, bar_style='info', description='Progress:', layout=Layout(height='25px', width='50%'),…"
      ]
     },
     "metadata": {},
     "output_type": "display_data"
    },
    {
     "name": "stdout",
     "output_type": "stream",
     "text": [
      "+----------+----+---------+-----------+------+----------------+\n",
      "|ID de caso|Edad|Municipio|Contagio   |Estado|Edad tipo double|\n",
      "+----------+----+---------+-----------+------+----------------+\n",
      "|1         |19  |BOGOTA   |Importado  |Leve  |19.0            |\n",
      "|2         |34  |BUGA     |Importado  |Leve  |34.0            |\n",
      "|3         |50  |MEDELLIN |Importado  |Leve  |50.0            |\n",
      "|4         |55  |MEDELLIN |Relacionado|Leve  |55.0            |\n",
      "|5         |25  |MEDELLIN |Relacionado|Leve  |25.0            |\n",
      "|6         |27  |ITAGUI   |Relacionado|Leve  |27.0            |\n",
      "|7         |85  |CARTAGENA|Importado  |Leve  |85.0            |\n",
      "|8         |22  |BOGOTA   |Importado  |Leve  |22.0            |\n",
      "|9         |28  |BOGOTA   |Importado  |Leve  |28.0            |\n",
      "|10        |36  |BOGOTA   |Importado  |Leve  |36.0            |\n",
      "+----------+----+---------+-----------+------+----------------+\n",
      "only showing top 10 rows"
     ]
    }
   ],
   "source": [
    "df_rename.withColumn('Edad tipo double',df['Edad'].cast(DoubleType())).show(10,False)"
   ]
  },
  {
   "cell_type": "code",
   "execution_count": 17,
   "metadata": {
    "colab": {
     "base_uri": "https://localhost:8080/"
    },
    "id": "qjGjone6mzIc",
    "outputId": "d95bb685-9795-46f6-f823-9be95cc6e0ca"
   },
   "outputs": [
    {
     "data": {
      "application/vnd.jupyter.widget-view+json": {
       "model_id": "",
       "version_major": 2,
       "version_minor": 0
      },
      "text/plain": [
       "FloatProgress(value=0.0, bar_style='info', description='Progress:', layout=Layout(height='25px', width='50%'),…"
      ]
     },
     "metadata": {},
     "output_type": "display_data"
    },
    {
     "name": "stdout",
     "output_type": "stream",
     "text": [
      "+----------+----+---------+-----------+------+\n",
      "|ID de caso|Edad|Municipio|   Contagio|Estado|\n",
      "+----------+----+---------+-----------+------+\n",
      "|         1|  19|   BOGOTA|  Importado|  Leve|\n",
      "|         2|  34|     BUGA|  Importado|  Leve|\n",
      "|         3|  50| MEDELLIN|  Importado|  Leve|\n",
      "|         4|  55| MEDELLIN|Relacionado|  Leve|\n",
      "|         5|  25| MEDELLIN|Relacionado|  Leve|\n",
      "|         6|  27|   ITAGUI|Relacionado|  Leve|\n",
      "|         7|  85|CARTAGENA|  Importado|  Leve|\n",
      "|         8|  22|   BOGOTA|  Importado|  Leve|\n",
      "|         9|  28|   BOGOTA|  Importado|  Leve|\n",
      "|        10|  36|   BOGOTA|  Importado|  Leve|\n",
      "+----------+----+---------+-----------+------+\n",
      "only showing top 10 rows"
     ]
    }
   ],
   "source": [
    "# Eliminar la columna 'Suma_double'.\n",
    "df_rename.drop('Edad tipo double').show(10)"
   ]
  },
  {
   "cell_type": "code",
   "execution_count": 18,
   "metadata": {
    "colab": {
     "base_uri": "https://localhost:8080/"
    },
    "id": "svbg3w2lwI_2",
    "outputId": "6c4456fe-7ad1-4aa6-e70b-4bcc15926787"
   },
   "outputs": [
    {
     "data": {
      "application/vnd.jupyter.widget-view+json": {
       "model_id": "",
       "version_major": 2,
       "version_minor": 0
      },
      "text/plain": [
       "FloatProgress(value=0.0, bar_style='info', description='Progress:', layout=Layout(height='25px', width='50%'),…"
      ]
     },
     "metadata": {},
     "output_type": "display_data"
    },
    {
     "name": "stdout",
     "output_type": "stream",
     "text": [
      "+----------+----+---------+-----------+------+\n",
      "|ID de caso|Edad|Municipio|   Contagio|Estado|\n",
      "+----------+----+---------+-----------+------+\n",
      "|         3|  50| MEDELLIN|  Importado|  Leve|\n",
      "|         4|  55| MEDELLIN|Relacionado|  Leve|\n",
      "|         5|  25| MEDELLIN|Relacionado|  Leve|\n",
      "|        20|  26| MEDELLIN|Relacionado|  Leve|\n",
      "|        21|  28| MEDELLIN|Relacionado|  Leve|\n",
      "|        32|  55| MEDELLIN|  Importado|  Leve|\n",
      "|       106|  44| MEDELLIN|  Importado|  Leve|\n",
      "|       107|  56| MEDELLIN|  Importado|  Leve|\n",
      "|       108|  57| MEDELLIN|  Importado|  Leve|\n",
      "|       131|  22| MEDELLIN|  Importado|  Leve|\n",
      "+----------+----+---------+-----------+------+\n",
      "only showing top 10 rows"
     ]
    }
   ],
   "source": [
    "#filter the records\n",
    "df_rename.filter(df_rename['Municipio']=='MEDELLIN').show(10)"
   ]
  },
  {
   "cell_type": "code",
   "execution_count": 19,
   "metadata": {
    "colab": {
     "base_uri": "https://localhost:8080/"
    },
    "id": "xvcri23hwI_2",
    "outputId": "ad651050-c751-40be-e258-298d1d1d6adb"
   },
   "outputs": [
    {
     "data": {
      "application/vnd.jupyter.widget-view+json": {
       "model_id": "",
       "version_major": 2,
       "version_minor": 0
      },
      "text/plain": [
       "FloatProgress(value=0.0, bar_style='info', description='Progress:', layout=Layout(height='25px', width='50%'),…"
      ]
     },
     "metadata": {},
     "output_type": "display_data"
    },
    {
     "name": "stdout",
     "output_type": "stream",
     "text": [
      "+----+---------+-----------+\n",
      "|Edad|Municipio|   Contagio|\n",
      "+----+---------+-----------+\n",
      "|  50| MEDELLIN|  Importado|\n",
      "|  55| MEDELLIN|Relacionado|\n",
      "|  25| MEDELLIN|Relacionado|\n",
      "|  26| MEDELLIN|Relacionado|\n",
      "|  28| MEDELLIN|Relacionado|\n",
      "|  55| MEDELLIN|  Importado|\n",
      "|  44| MEDELLIN|  Importado|\n",
      "|  56| MEDELLIN|  Importado|\n",
      "|  57| MEDELLIN|  Importado|\n",
      "|  22| MEDELLIN|  Importado|\n",
      "+----+---------+-----------+\n",
      "only showing top 10 rows"
     ]
    }
   ],
   "source": [
    "#filter the records\n",
    "df_rename.filter(df_rename['Municipio']=='MEDELLIN').select('Edad','Municipio','Contagio').show(10)"
   ]
  },
  {
   "cell_type": "code",
   "execution_count": 20,
   "metadata": {
    "colab": {
     "base_uri": "https://localhost:8080/"
    },
    "id": "zeafhbwWwI_2",
    "outputId": "8d5dbb0c-dd35-40b7-a7b6-8f27a52d5699"
   },
   "outputs": [
    {
     "data": {
      "application/vnd.jupyter.widget-view+json": {
       "model_id": "",
       "version_major": 2,
       "version_minor": 0
      },
      "text/plain": [
       "FloatProgress(value=0.0, bar_style='info', description='Progress:', layout=Layout(height='25px', width='50%'),…"
      ]
     },
     "metadata": {},
     "output_type": "display_data"
    },
    {
     "name": "stdout",
     "output_type": "stream",
     "text": [
      "+----------+----+---------+-----------+------+\n",
      "|ID de caso|Edad|Municipio|   Contagio|Estado|\n",
      "+----------+----+---------+-----------+------+\n",
      "|       776|   2|   BOGOTA|Relacionado|  Leve|\n",
      "|       787|   2|   BOGOTA|Relacionado|  Leve|\n",
      "|       870|   2|   BOGOTA|Relacionado|  Leve|\n",
      "|       873|  15|   BOGOTA|Relacionado|  Leve|\n",
      "|       879|  13|   BOGOTA|Relacionado|  Leve|\n",
      "|       900|   2|   BOGOTA|Relacionado|  Leve|\n",
      "|       984|  15|   BOGOTA|Relacionado|  Leve|\n",
      "|       998|  17|   BOGOTA|Comunitaria|  Leve|\n",
      "+----------+----+---------+-----------+------+"
     ]
    }
   ],
   "source": [
    "#filter the multiple conditions\n",
    "df_rename.filter(df_rename['Municipio']=='BOGOTA').filter(df_rename['Edad'] <18).show(10)"
   ]
  },
  {
   "cell_type": "code",
   "execution_count": 21,
   "metadata": {
    "colab": {
     "base_uri": "https://localhost:8080/"
    },
    "id": "y250NbjqwI_2",
    "outputId": "a12775e6-d47c-4cab-ec81-6e914ac4d195"
   },
   "outputs": [
    {
     "data": {
      "application/vnd.jupyter.widget-view+json": {
       "model_id": "",
       "version_major": 2,
       "version_minor": 0
      },
      "text/plain": [
       "FloatProgress(value=0.0, bar_style='info', description='Progress:', layout=Layout(height='25px', width='50%'),…"
      ]
     },
     "metadata": {},
     "output_type": "display_data"
    },
    {
     "name": "stdout",
     "output_type": "stream",
     "text": [
      "+-----------+\n",
      "|   Contagio|\n",
      "+-----------+\n",
      "|  Importado|\n",
      "|Comunitaria|\n",
      "| En estudio|\n",
      "|Relacionado|\n",
      "+-----------+"
     ]
    }
   ],
   "source": [
    "#Distinct Values in a column\n",
    "df_rename.select('Contagio').distinct().show()"
   ]
  },
  {
   "cell_type": "code",
   "execution_count": 22,
   "metadata": {
    "colab": {
     "base_uri": "https://localhost:8080/"
    },
    "id": "Ni3YuJ7hwI_2",
    "outputId": "d0c7df6d-b6cc-466a-f5ad-8ff867479a37"
   },
   "outputs": [
    {
     "data": {
      "application/vnd.jupyter.widget-view+json": {
       "model_id": "",
       "version_major": 2,
       "version_minor": 0
      },
      "text/plain": [
       "FloatProgress(value=0.0, bar_style='info', description='Progress:', layout=Layout(height='25px', width='50%'),…"
      ]
     },
     "metadata": {},
     "output_type": "display_data"
    },
    {
     "name": "stdout",
     "output_type": "stream",
     "text": [
      "4"
     ]
    }
   ],
   "source": [
    "#distinct value count\n",
    "df_rename.select('Contagio').distinct().count()"
   ]
  },
  {
   "cell_type": "code",
   "execution_count": 23,
   "metadata": {
    "colab": {
     "base_uri": "https://localhost:8080/"
    },
    "id": "gyd5am90wI_3",
    "outputId": "a4ba8471-7818-496d-9c98-e462c908b10e"
   },
   "outputs": [
    {
     "data": {
      "application/vnd.jupyter.widget-view+json": {
       "model_id": "",
       "version_major": 2,
       "version_minor": 0
      },
      "text/plain": [
       "FloatProgress(value=0.0, bar_style='info', description='Progress:', layout=Layout(height='25px', width='50%'),…"
      ]
     },
     "metadata": {},
     "output_type": "display_data"
    },
    {
     "name": "stdout",
     "output_type": "stream",
     "text": [
      "+-----------+-----+\n",
      "|Contagio   |count|\n",
      "+-----------+-----+\n",
      "|Importado  |477  |\n",
      "|Comunitaria|63   |\n",
      "|En estudio |1    |\n",
      "|Relacionado|459  |\n",
      "+-----------+-----+"
     ]
    }
   ],
   "source": [
    "df_rename.groupBy('Contagio').count().show(4,False)"
   ]
  },
  {
   "cell_type": "code",
   "execution_count": 24,
   "metadata": {
    "colab": {
     "base_uri": "https://localhost:8080/"
    },
    "id": "mcJHIiwPwI_3",
    "outputId": "a2a1931e-83eb-4d52-bbc3-164adbb86d9e"
   },
   "outputs": [
    {
     "data": {
      "application/vnd.jupyter.widget-view+json": {
       "model_id": "",
       "version_major": 2,
       "version_minor": 0
      },
      "text/plain": [
       "FloatProgress(value=0.0, bar_style='info', description='Progress:', layout=Layout(height='25px', width='50%'),…"
      ]
     },
     "metadata": {},
     "output_type": "display_data"
    },
    {
     "name": "stdout",
     "output_type": "stream",
     "text": [
      "+-----------+-----+\n",
      "|Contagio   |count|\n",
      "+-----------+-----+\n",
      "|Importado  |477  |\n",
      "|Relacionado|459  |\n",
      "|Comunitaria|63   |\n",
      "|En estudio |1    |\n",
      "+-----------+-----+"
     ]
    }
   ],
   "source": [
    "# Value counts\n",
    "df_rename.groupBy('Contagio').count().orderBy('count',ascending=False).show(4,False)"
   ]
  },
  {
   "cell_type": "code",
   "execution_count": 25,
   "metadata": {
    "colab": {
     "base_uri": "https://localhost:8080/"
    },
    "id": "TtjGVCPJwI_3",
    "outputId": "a6e51651-cc1b-4355-ddc4-f6f6d5554cc9"
   },
   "outputs": [
    {
     "data": {
      "application/vnd.jupyter.widget-view+json": {
       "model_id": "",
       "version_major": 2,
       "version_minor": 0
      },
      "text/plain": [
       "FloatProgress(value=0.0, bar_style='info', description='Progress:', layout=Layout(height='25px', width='50%'),…"
      ]
     },
     "metadata": {},
     "output_type": "display_data"
    },
    {
     "name": "stdout",
     "output_type": "stream",
     "text": [
      "+-----------+------------------+-----------------+\n",
      "|Contagio   |avg(ID de caso)   |avg(Edad)        |\n",
      "+-----------+------------------+-----------------+\n",
      "|Importado  |425.77358490566036|42.44863731656184|\n",
      "|Comunitaria|776.8730158730159 |46.06349206349206|\n",
      "|En estudio |677.0             |80.0             |\n",
      "|Relacionado|539.8387799564271 |41.17211328976035|\n",
      "+-----------+------------------+-----------------+"
     ]
    }
   ],
   "source": [
    "# Value counts\n",
    "df_rename.groupBy('Contagio').mean().show(4,False)"
   ]
  },
  {
   "cell_type": "code",
   "execution_count": 26,
   "metadata": {
    "colab": {
     "base_uri": "https://localhost:8080/"
    },
    "id": "Wlrk_f1IwI_3",
    "outputId": "c0064f2c-6d4f-40d8-f7b6-1756898d11d3"
   },
   "outputs": [
    {
     "data": {
      "application/vnd.jupyter.widget-view+json": {
       "model_id": "",
       "version_major": 2,
       "version_minor": 0
      },
      "text/plain": [
       "FloatProgress(value=0.0, bar_style='info', description='Progress:', layout=Layout(height='25px', width='50%'),…"
      ]
     },
     "metadata": {},
     "output_type": "display_data"
    },
    {
     "name": "stdout",
     "output_type": "stream",
     "text": [
      "+-----------+---------------+---------+\n",
      "|Contagio   |sum(ID de caso)|sum(Edad)|\n",
      "+-----------+---------------+---------+\n",
      "|Importado  |203094         |20248    |\n",
      "|Comunitaria|48943          |2902     |\n",
      "|En estudio |677            |80       |\n",
      "|Relacionado|247786         |18898    |\n",
      "+-----------+---------------+---------+"
     ]
    }
   ],
   "source": [
    "df_rename.groupBy('Contagio').sum().show(4,False)"
   ]
  },
  {
   "cell_type": "code",
   "execution_count": 27,
   "metadata": {
    "colab": {
     "base_uri": "https://localhost:8080/"
    },
    "id": "A9mZCRy-wI_3",
    "outputId": "7e8a97e5-5470-42df-8e6b-a557bf0b3307"
   },
   "outputs": [
    {
     "data": {
      "application/vnd.jupyter.widget-view+json": {
       "model_id": "",
       "version_major": 2,
       "version_minor": 0
      },
      "text/plain": [
       "FloatProgress(value=0.0, bar_style='info', description='Progress:', layout=Layout(height='25px', width='50%'),…"
      ]
     },
     "metadata": {},
     "output_type": "display_data"
    },
    {
     "name": "stdout",
     "output_type": "stream",
     "text": [
      "+-----------+---------------+---------+\n",
      "|Contagio   |max(ID de caso)|max(Edad)|\n",
      "+-----------+---------------+---------+\n",
      "|Importado  |994            |87       |\n",
      "|Comunitaria|1000           |82       |\n",
      "|En estudio |677            |80       |\n",
      "|Relacionado|992            |88       |\n",
      "+-----------+---------------+---------+"
     ]
    }
   ],
   "source": [
    "# Value counts\n",
    "df_rename.groupBy('Contagio').max().show(4,False)"
   ]
  },
  {
   "cell_type": "code",
   "execution_count": 28,
   "metadata": {
    "colab": {
     "base_uri": "https://localhost:8080/"
    },
    "id": "9PPAXO_pwI_3",
    "outputId": "a4d3a560-6294-47ad-8236-f6e94127f632"
   },
   "outputs": [
    {
     "data": {
      "application/vnd.jupyter.widget-view+json": {
       "model_id": "",
       "version_major": 2,
       "version_minor": 0
      },
      "text/plain": [
       "FloatProgress(value=0.0, bar_style='info', description='Progress:', layout=Layout(height='25px', width='50%'),…"
      ]
     },
     "metadata": {},
     "output_type": "display_data"
    },
    {
     "name": "stdout",
     "output_type": "stream",
     "text": [
      "+-----------+---------------+---------+\n",
      "|Contagio   |min(ID de caso)|min(Edad)|\n",
      "+-----------+---------------+---------+\n",
      "|Importado  |1              |9        |\n",
      "|Comunitaria|250            |6        |\n",
      "|En estudio |677            |80       |\n",
      "|Relacionado|4              |1        |\n",
      "+-----------+---------------+---------+"
     ]
    }
   ],
   "source": [
    "# Value counts\n",
    "df_rename.groupBy('Contagio').min().show(4,False)"
   ]
  },
  {
   "cell_type": "code",
   "execution_count": 29,
   "metadata": {
    "colab": {
     "base_uri": "https://localhost:8080/"
    },
    "id": "d3JRft-IwI_3",
    "outputId": "4e4a813c-d50c-483d-8680-d2d8d7eaeda9"
   },
   "outputs": [
    {
     "data": {
      "application/vnd.jupyter.widget-view+json": {
       "model_id": "",
       "version_major": 2,
       "version_minor": 0
      },
      "text/plain": [
       "FloatProgress(value=0.0, bar_style='info', description='Progress:', layout=Layout(height='25px', width='50%'),…"
      ]
     },
     "metadata": {},
     "output_type": "display_data"
    },
    {
     "name": "stdout",
     "output_type": "stream",
     "text": [
      "+-----------+---------+\n",
      "|Contagio   |sum(Edad)|\n",
      "+-----------+---------+\n",
      "|Importado  |20248    |\n",
      "|Comunitaria|2902     |\n",
      "|En estudio |80       |\n",
      "|Relacionado|18898    |\n",
      "+-----------+---------+"
     ]
    }
   ],
   "source": [
    "#Aggregation\n",
    "df_rename.groupBy('Contagio').agg({'Edad':'sum'}).show(4,False)"
   ]
  },
  {
   "cell_type": "code",
   "execution_count": 30,
   "metadata": {
    "id": "2J1NJq9dwI_3"
   },
   "outputs": [
    {
     "data": {
      "application/vnd.jupyter.widget-view+json": {
       "model_id": "",
       "version_major": 2,
       "version_minor": 0
      },
      "text/plain": [
       "FloatProgress(value=0.0, bar_style='info', description='Progress:', layout=Layout(height='25px', width='50%'),…"
      ]
     },
     "metadata": {},
     "output_type": "display_data"
    }
   ],
   "source": [
    "# UDF\n",
    "from pyspark.sql.functions import udf"
   ]
  },
  {
   "cell_type": "code",
   "execution_count": 31,
   "metadata": {
    "id": "8TAPxftpr5YZ"
   },
   "outputs": [
    {
     "data": {
      "application/vnd.jupyter.widget-view+json": {
       "model_id": "",
       "version_major": 2,
       "version_minor": 0
      },
      "text/plain": [
       "FloatProgress(value=0.0, bar_style='info', description='Progress:', layout=Layout(height='25px', width='50%'),…"
      ]
     },
     "metadata": {},
     "output_type": "display_data"
    }
   ],
   "source": [
    "# Función para clasificar la edad en rangos de 10 en 10\n",
    "def clasificar_edad(edad):\n",
    "    if edad is None:\n",
    "        return \"Desconocido\"  # Para manejar valores nulos\n",
    "    rango_inferior = (edad // 10) * 10\n",
    "    rango_superior = rango_inferior + 9\n",
    "    return f\"{rango_inferior}-{rango_superior}\""
   ]
  },
  {
   "cell_type": "code",
   "execution_count": 32,
   "metadata": {
    "colab": {
     "base_uri": "https://localhost:8080/"
    },
    "id": "4NZs-74ZwI_3",
    "outputId": "5539f1e7-3c2a-4d29-ff60-bb50a19c487b"
   },
   "outputs": [
    {
     "data": {
      "application/vnd.jupyter.widget-view+json": {
       "model_id": "",
       "version_major": 2,
       "version_minor": 0
      },
      "text/plain": [
       "FloatProgress(value=0.0, bar_style='info', description='Progress:', layout=Layout(height='25px', width='50%'),…"
      ]
     },
     "metadata": {},
     "output_type": "display_data"
    },
    {
     "name": "stdout",
     "output_type": "stream",
     "text": [
      "+----------+----+---------+-----------+------+------------+\n",
      "|ID de caso|Edad|Municipio|Contagio   |Estado|Rango edades|\n",
      "+----------+----+---------+-----------+------+------------+\n",
      "|1         |19  |BOGOTA   |Importado  |Leve  |10-19       |\n",
      "|2         |34  |BUGA     |Importado  |Leve  |30-39       |\n",
      "|3         |50  |MEDELLIN |Importado  |Leve  |50-59       |\n",
      "|4         |55  |MEDELLIN |Relacionado|Leve  |50-59       |\n",
      "|5         |25  |MEDELLIN |Relacionado|Leve  |20-29       |\n",
      "|6         |27  |ITAGUI   |Relacionado|Leve  |20-29       |\n",
      "|7         |85  |CARTAGENA|Importado  |Leve  |80-89       |\n",
      "|8         |22  |BOGOTA   |Importado  |Leve  |20-29       |\n",
      "|9         |28  |BOGOTA   |Importado  |Leve  |20-29       |\n",
      "|10        |36  |BOGOTA   |Importado  |Leve  |30-39       |\n",
      "+----------+----+---------+-----------+------+------------+\n",
      "only showing top 10 rows\n",
      "\n",
      "+----------+----+-------------+-----------+------+\n",
      "|ID de caso|Edad|    Municipio|   Contagio|Estado|\n",
      "+----------+----+-------------+-----------+------+\n",
      "|         1|  19|       BOGOTA|  Importado|  Leve|\n",
      "|         2|  34|         BUGA|  Importado|  Leve|\n",
      "|         3|  50|     MEDELLIN|  Importado|  Leve|\n",
      "|         4|  55|     MEDELLIN|Relacionado|  Leve|\n",
      "|         5|  25|     MEDELLIN|Relacionado|  Leve|\n",
      "|         6|  27|       ITAGUI|Relacionado|  Leve|\n",
      "|         7|  85|    CARTAGENA|  Importado|  Leve|\n",
      "|         8|  22|       BOGOTA|  Importado|  Leve|\n",
      "|         9|  28|       BOGOTA|  Importado|  Leve|\n",
      "|        10|  36|       BOGOTA|  Importado|  Leve|\n",
      "|        11|  42|       BOGOTA|  Importado|  Leve|\n",
      "|        12|  74|        NEIVA|  Importado|  Leve|\n",
      "|        13|  68|        NEIVA|Relacionado|  Leve|\n",
      "|        14|  48|      PALMIRA|  Importado|  Leve|\n",
      "|        15|  30|VILLAVICENCIO|  Importado|  Leve|\n",
      "|        16|  61|       BOGOTA|  Importado|  Leve|\n",
      "|        17|  73|       BOGOTA|  Importado|  Leve|\n",
      "|        18|  54|       BOGOTA|  Importado|  Leve|\n",
      "|        19|  54|       BOGOTA|Relacionado|  Leve|\n",
      "|        20|  26|     MEDELLIN|Relacionado|  Leve|\n",
      "+----------+----+-------------+-----------+------+\n",
      "only showing top 20 rows"
     ]
    }
   ],
   "source": [
    "#create udf using python function\n",
    "edades_udf=udf(clasificar_edad,StringType())\n",
    "#apply udf on dataframe\n",
    "df_rename.withColumn('Rango edades',edades_udf(df_rename['Edad'])).show(10,False)\n",
    "df_rename.show()"
   ]
  },
  {
   "cell_type": "code",
   "execution_count": 33,
   "metadata": {
    "colab": {
     "base_uri": "https://localhost:8080/"
    },
    "id": "BMFwD55gxWSF",
    "outputId": "46424480-f836-44f6-eaa4-595068015adc"
   },
   "outputs": [
    {
     "data": {
      "application/vnd.jupyter.widget-view+json": {
       "model_id": "",
       "version_major": 2,
       "version_minor": 0
      },
      "text/plain": [
       "FloatProgress(value=0.0, bar_style='info', description='Progress:', layout=Layout(height='25px', width='50%'),…"
      ]
     },
     "metadata": {},
     "output_type": "display_data"
    },
    {
     "name": "stdout",
     "output_type": "stream",
     "text": [
      "+----------+----+---------+-----------+------+-------------+\n",
      "|ID de caso|Edad|Municipio|Contagio   |Estado|Grupo de edad|\n",
      "+----------+----+---------+-----------+------+-------------+\n",
      "|1         |19  |BOGOTA   |Importado  |Leve  |Joven        |\n",
      "|2         |34  |BUGA     |Importado  |Leve  |Adulto       |\n",
      "|3         |50  |MEDELLIN |Importado  |Leve  |Adulto       |\n",
      "|4         |55  |MEDELLIN |Relacionado|Leve  |Adulto       |\n",
      "|5         |25  |MEDELLIN |Relacionado|Leve  |Joven        |\n",
      "|6         |27  |ITAGUI   |Relacionado|Leve  |Adulto       |\n",
      "|7         |85  |CARTAGENA|Importado  |Leve  |Adulto       |\n",
      "|8         |22  |BOGOTA   |Importado  |Leve  |Joven        |\n",
      "|9         |28  |BOGOTA   |Importado  |Leve  |Adulto       |\n",
      "|10        |36  |BOGOTA   |Importado  |Leve  |Adulto       |\n",
      "+----------+----+---------+-----------+------+-------------+\n",
      "only showing top 10 rows"
     ]
    }
   ],
   "source": [
    "# Usando una funcion lamda\n",
    "edad_udf = udf(lambda age: \"Joven\" if age <= 25 else \"Adulto\", StringType())\n",
    "# Aplicando udf en el dataframe.\n",
    "df_rename.withColumn(\"Grupo de edad\", edad_udf(df_rename.Edad)).show(10,False)"
   ]
  },
  {
   "cell_type": "code",
   "execution_count": 34,
   "metadata": {
    "id": "dSpAGUo6wI_3"
   },
   "outputs": [
    {
     "data": {
      "application/vnd.jupyter.widget-view+json": {
       "model_id": "",
       "version_major": 2,
       "version_minor": 0
      },
      "text/plain": [
       "FloatProgress(value=0.0, bar_style='info', description='Progress:', layout=Layout(height='25px', width='50%'),…"
      ]
     },
     "metadata": {},
     "output_type": "display_data"
    }
   ],
   "source": [
    "#pandas udf\n",
    "from pyspark.sql.functions import pandas_udf, PandasUDFType, col, desc, avg"
   ]
  },
  {
   "cell_type": "code",
   "execution_count": 35,
   "metadata": {
    "colab": {
     "base_uri": "https://localhost:8080/"
    },
    "id": "x2A-1N3DyYrF",
    "outputId": "2d800442-da04-44db-be2a-fcfe70506cea"
   },
   "outputs": [
    {
     "data": {
      "application/vnd.jupyter.widget-view+json": {
       "model_id": "",
       "version_major": 2,
       "version_minor": 0
      },
      "text/plain": [
       "FloatProgress(value=0.0, bar_style='info', description='Progress:', layout=Layout(height='25px', width='50%'),…"
      ]
     },
     "metadata": {},
     "output_type": "display_data"
    },
    {
     "name": "stdout",
     "output_type": "stream",
     "text": [
      "+-------------------+-----+\n",
      "|Nombre departamento|count|\n",
      "+-------------------+-----+\n",
      "|             BOGOTA|  401|\n",
      "|              VALLE|  148|\n",
      "|          ANTIOQUIA|  106|\n",
      "|       CUNDINAMARCA|   49|\n",
      "|          CARTAGENA|   39|\n",
      "|          RISARALDA|   34|\n",
      "|       BARRANQUILLA|   31|\n",
      "|              HUILA|   30|\n",
      "|            QUINDIO|   23|\n",
      "|    NORTE SANTANDER|   19|\n",
      "+-------------------+-----+"
     ]
    }
   ],
   "source": [
    "# Agrupar por departamento y contar los casos\n",
    "top_departamentos = df.groupBy(\"Nombre departamento\").count().orderBy(desc(\"count\")).limit(10)\n",
    "top_departamentos.show()"
   ]
  },
  {
   "cell_type": "code",
   "execution_count": 36,
   "metadata": {
    "colab": {
     "base_uri": "https://localhost:8080/"
    },
    "id": "8ThTZ9c1y7bt",
    "outputId": "21f24c30-77d3-4120-904b-058f7f767822"
   },
   "outputs": [
    {
     "data": {
      "application/vnd.jupyter.widget-view+json": {
       "model_id": "",
       "version_major": 2,
       "version_minor": 0
      },
      "text/plain": [
       "FloatProgress(value=0.0, bar_style='info', description='Progress:', layout=Layout(height='25px', width='50%'),…"
      ]
     },
     "metadata": {},
     "output_type": "display_data"
    },
    {
     "name": "stdout",
     "output_type": "stream",
     "text": [
      "+----------------+-----+\n",
      "|Nombre municipio|count|\n",
      "+----------------+-----+\n",
      "|          BOGOTA|  401|\n",
      "|            CALI|  101|\n",
      "|        MEDELLIN|   63|\n",
      "|       CARTAGENA|   39|\n",
      "|    BARRANQUILLA|   31|\n",
      "|           NEIVA|   27|\n",
      "|         PEREIRA|   25|\n",
      "|         PALMIRA|   22|\n",
      "|      VALLEDUPAR|   16|\n",
      "|         ARMENIA|   15|\n",
      "+----------------+-----+"
     ]
    }
   ],
   "source": [
    "# Agrupar por ciudad (En el este caso, es Municipio.) y contar los casos\n",
    "top_ciudad = df.groupBy(\"Nombre municipio\").count().orderBy(desc(\"count\")).limit(10)\n",
    "top_ciudad.show()"
   ]
  },
  {
   "cell_type": "code",
   "execution_count": 37,
   "metadata": {
    "colab": {
     "base_uri": "https://localhost:8080/"
    },
    "id": "ARR8V5XyzHaD",
    "outputId": "666b55c6-bfb6-4e6e-f300-70fefa72284e"
   },
   "outputs": [
    {
     "data": {
      "application/vnd.jupyter.widget-view+json": {
       "model_id": "",
       "version_major": 2,
       "version_minor": 0
      },
      "text/plain": [
       "FloatProgress(value=0.0, bar_style='info', description='Progress:', layout=Layout(height='25px', width='50%'),…"
      ]
     },
     "metadata": {},
     "output_type": "display_data"
    },
    {
     "name": "stdout",
     "output_type": "stream",
     "text": [
      "+-----------------+-----+\n",
      "|fecha reporte web|count|\n",
      "+-----------------+-----+\n",
      "|31/3/2020 0:00:00|  107|\n",
      "|24/3/2020 0:00:00|  105|\n",
      "|30/3/2020 0:00:00|   96|\n",
      "| 1/4/2020 0:00:00|   95|\n",
      "|29/3/2020 0:00:00|   94|\n",
      "|23/3/2020 0:00:00|   73|\n",
      "|28/3/2020 0:00:00|   69|\n",
      "|25/3/2020 0:00:00|   61|\n",
      "|27/3/2020 0:00:00|   49|\n",
      "|20/3/2020 0:00:00|   48|\n",
      "+-----------------+-----+"
     ]
    }
   ],
   "source": [
    "# Agrupar por Fecha de registro y contar los casos.\n",
    "top_fecha = df.groupBy(\"fecha reporte web\").count().orderBy(desc(\"count\")).limit(10)\n",
    "top_fecha.show()"
   ]
  },
  {
   "cell_type": "code",
   "execution_count": 38,
   "metadata": {
    "colab": {
     "base_uri": "https://localhost:8080/"
    },
    "id": "Xj8Wafnnzt0M",
    "outputId": "93d0923e-7480-4c63-ccfe-363761d5cb01"
   },
   "outputs": [
    {
     "data": {
      "application/vnd.jupyter.widget-view+json": {
       "model_id": "",
       "version_major": 2,
       "version_minor": 0
      },
      "text/plain": [
       "FloatProgress(value=0.0, bar_style='info', description='Progress:', layout=Layout(height='25px', width='50%'),…"
      ]
     },
     "metadata": {},
     "output_type": "display_data"
    },
    {
     "name": "stdout",
     "output_type": "stream",
     "text": [
      "+----+-----+\n",
      "|Edad|count|\n",
      "+----+-----+\n",
      "|  30|   33|\n",
      "|  28|   31|\n",
      "|  32|   30|\n",
      "|  26|   29|\n",
      "|  29|   28|\n",
      "|  33|   28|\n",
      "|  50|   27|\n",
      "|  42|   24|\n",
      "|  35|   23|\n",
      "|  45|   23|\n",
      "|  58|   23|\n",
      "|  21|   22|\n",
      "|  25|   22|\n",
      "|  38|   22|\n",
      "|  24|   21|\n",
      "|  31|   21|\n",
      "|  34|   20|\n",
      "|  37|   20|\n",
      "|  41|   20|\n",
      "|  47|   20|\n",
      "|  51|   20|\n",
      "|  54|   20|\n",
      "|  36|   19|\n",
      "|  39|   18|\n",
      "|  57|   18|\n",
      "|  27|   17|\n",
      "|  23|   16|\n",
      "|  44|   16|\n",
      "|  61|   16|\n",
      "|  22|   15|\n",
      "|  48|   15|\n",
      "|  49|   14|\n",
      "|  55|   14|\n",
      "|  40|   13|\n",
      "|  46|   13|\n",
      "|  62|   13|\n",
      "|  64|   13|\n",
      "|  43|   12|\n",
      "|  52|   12|\n",
      "|  56|   12|\n",
      "|  65|   11|\n",
      "|  18|   11|\n",
      "|  19|   11|\n",
      "|  53|   11|\n",
      "|  63|   10|\n",
      "|  68|    9|\n",
      "|  72|    9|\n",
      "|  59|    9|\n",
      "|  60|    9|\n",
      "|  70|    8|\n",
      "|  73|    8|\n",
      "|  67|    6|\n",
      "|  69|    6|\n",
      "|  74|    6|\n",
      "|  80|    6|\n",
      "|  16|    6|\n",
      "|  20|    6|\n",
      "|  66|    5|\n",
      "|  84|    5|\n",
      "|   9|    5|\n",
      "|  15|    5|\n",
      "|  82|    4|\n",
      "|   2|    4|\n",
      "|  71|    3|\n",
      "|  76|    3|\n",
      "|  79|    3|\n",
      "|  81|    3|\n",
      "|  83|    3|\n",
      "|  17|    3|\n",
      "|  77|    2|\n",
      "|  85|    2|\n",
      "|  87|    2|\n",
      "|  88|    2|\n",
      "|   6|    2|\n",
      "|  12|    2|\n",
      "|  75|    1|\n",
      "|   1|    1|\n",
      "|   3|    1|\n",
      "|   4|    1|\n",
      "|   5|    1|\n",
      "|   8|    1|\n",
      "|  13|    1|\n",
      "+----+-----+"
     ]
    }
   ],
   "source": [
    "# Agrupar por Edad y contar los casos.\n",
    "# Edades diferentes en el dataset.\n",
    "edades_diferentes = df.select('Edad').distinct().count()\n",
    "edades = df.groupBy(\"Edad\").count().orderBy(desc(\"count\")).limit(edades_diferentes)\n",
    "edades.show(edades_diferentes)"
   ]
  },
  {
   "cell_type": "code",
   "execution_count": 39,
   "metadata": {
    "colab": {
     "base_uri": "https://localhost:8080/"
    },
    "id": "H9P_D21F0y74",
    "outputId": "92a45e4a-5e52-4e9d-c828-6d4e5f2e762c"
   },
   "outputs": [
    {
     "data": {
      "application/vnd.jupyter.widget-view+json": {
       "model_id": "",
       "version_major": 2,
       "version_minor": 0
      },
      "text/plain": [
       "FloatProgress(value=0.0, bar_style='info', description='Progress:', layout=Layout(height='25px', width='50%'),…"
      ]
     },
     "metadata": {},
     "output_type": "display_data"
    },
    {
     "name": "stdout",
     "output_type": "stream",
     "text": [
      "+-------------------+------------------+\n",
      "|Nombre departamento|     Promedio_Edad|\n",
      "+-------------------+------------------+\n",
      "|             BOGOTA| 43.01496259351621|\n",
      "|       CUNDINAMARCA|42.734693877551024|\n",
      "|              VALLE| 41.99324324324324|\n",
      "|          ANTIOQUIA|40.386792452830186|\n",
      "|          CARTAGENA| 40.05128205128205|\n",
      "+-------------------+------------------+"
     ]
    }
   ],
   "source": [
    "# Obtener los 5 departamentos con más casos\n",
    "top_5_departamentos = df.groupBy(\"Nombre departamento\").count().orderBy(desc(\"count\")).limit(5)\n",
    "\n",
    "# Filtrar el DataFrame original para incluir solo los 5 departamentos principales\n",
    "df_top_5 = df.join(top_5_departamentos, on=\"Nombre departamento\", how=\"inner\")\n",
    "\n",
    "promedio_edad_top_5 = df_top_5.groupBy(\"Nombre departamento\").agg(avg(\"Edad\").alias(\"Promedio_Edad\")).orderBy(desc(\"Promedio_Edad\"))\n",
    "promedio_edad_top_5.show()"
   ]
  },
  {
   "cell_type": "markdown",
   "metadata": {
    "id": "-bDtnCgS6Tld"
   },
   "source": [
    "Con SparkSQL"
   ]
  },
  {
   "cell_type": "code",
   "execution_count": 40,
   "metadata": {
    "id": "DGIlcB312mge"
   },
   "outputs": [
    {
     "data": {
      "application/vnd.jupyter.widget-view+json": {
       "model_id": "",
       "version_major": 2,
       "version_minor": 0
      },
      "text/plain": [
       "FloatProgress(value=0.0, bar_style='info', description='Progress:', layout=Layout(height='25px', width='50%'),…"
      ]
     },
     "metadata": {},
     "output_type": "display_data"
    }
   ],
   "source": [
    "# Creamos la tabla 'Covid19' con el contenido del dataframe ya establecido antes 'df_with_new_column'.\n",
    "df.createOrReplaceTempView('Covid19')"
   ]
  },
  {
   "cell_type": "code",
   "execution_count": 41,
   "metadata": {
    "colab": {
     "base_uri": "https://localhost:8080/"
    },
    "id": "u_oAPimB2vm-",
    "outputId": "37019d04-4959-4a1e-9f4e-f42b12db81ba"
   },
   "outputs": [
    {
     "data": {
      "application/vnd.jupyter.widget-view+json": {
       "model_id": "",
       "version_major": 2,
       "version_minor": 0
      },
      "text/plain": [
       "FloatProgress(value=0.0, bar_style='info', description='Progress:', layout=Layout(height='25px', width='50%'),…"
      ]
     },
     "metadata": {},
     "output_type": "display_data"
    },
    {
     "name": "stdout",
     "output_type": "stream",
     "text": [
      "+-----------------+----------+---------------------+----------------------------+-------------------+-------------------------+----------------+----+------------------------+----+----------------+------------------+------+-------------------+--------------------+----------+---------------------------+---------------+--------------------+---------------------+--------------------+------------------+-----------------------+\n",
      "|fecha reporte web|ID de caso|Fecha de notificación|Código DIVIPOLA departamento|Nombre departamento|Código DIVIPOLA municipio|Nombre municipio|Edad|Unidad de medida de edad|Sexo|Tipo de contagio|Ubicación del caso|Estado|Código ISO del país|     Nombre del país|Recuperado|Fecha de inicio de síntomas|Fecha de muerte|Fecha de diagnóstico|Fecha de recuperación|Tipo de recuperación|Pertenencia étnica|Nombre del grupo étnico|\n",
      "+-----------------+----------+---------------------+----------------------------+-------------------+-------------------------+----------------+----+------------------------+----+----------------+------------------+------+-------------------+--------------------+----------+---------------------------+---------------+--------------------+---------------------+--------------------+------------------+-----------------------+\n",
      "| 6/3/2020 0:00:00|         1|     2/3/2020 0:00:00|                          11|             BOGOTA|                    11001|          BOGOTA|  19|                       1|   F|       Importado|              Casa|  Leve|                380|              ITALIA|Recuperado|          27/2/2020 0:00:00|           NULL|    6/3/2020 0:00:00|    13/3/2020 0:00:00|                 PCR|                 6|                   NULL|\n",
      "| 9/3/2020 0:00:00|         2|     6/3/2020 0:00:00|                          76|              VALLE|                    76111|            BUGA|  34|                       1|   M|       Importado|              Casa|  Leve|                724|              ESPAÑA|Recuperado|           4/3/2020 0:00:00|           NULL|    9/3/2020 0:00:00|    19/3/2020 0:00:00|                 PCR|                 5|                   NULL|\n",
      "| 9/3/2020 0:00:00|         3|     7/3/2020 0:00:00|                           5|          ANTIOQUIA|                     5001|        MEDELLIN|  50|                       1|   F|       Importado|              Casa|  Leve|                724|              ESPAÑA|Recuperado|          29/2/2020 0:00:00|           NULL|    9/3/2020 0:00:00|    15/3/2020 0:00:00|                 PCR|                 6|                   NULL|\n",
      "|11/3/2020 0:00:00|         4|     9/3/2020 0:00:00|                           5|          ANTIOQUIA|                     5001|        MEDELLIN|  55|                       1|   M|     Relacionado|              Casa|  Leve|               NULL|                NULL|Recuperado|           6/3/2020 0:00:00|           NULL|   11/3/2020 0:00:00|    26/3/2020 0:00:00|                 PCR|                 6|                   NULL|\n",
      "|11/3/2020 0:00:00|         5|     9/3/2020 0:00:00|                           5|          ANTIOQUIA|                     5001|        MEDELLIN|  25|                       1|   M|     Relacionado|              Casa|  Leve|               NULL|                NULL|Recuperado|           8/3/2020 0:00:00|           NULL|   11/3/2020 0:00:00|    23/3/2020 0:00:00|                 PCR|                 6|                   NULL|\n",
      "|11/3/2020 0:00:00|         6|    10/3/2020 0:00:00|                           5|          ANTIOQUIA|                     5360|          ITAGUI|  27|                       1|   F|     Relacionado|              Casa|  Leve|               NULL|                NULL|Recuperado|           6/3/2020 0:00:00|           NULL|   11/3/2020 0:00:00|    26/3/2020 0:00:00|                 PCR|                 6|                   NULL|\n",
      "|11/3/2020 0:00:00|         7|     8/3/2020 0:00:00|                       13001|          CARTAGENA|                    13001|       CARTAGENA|  85|                       1|   F|       Importado|              Casa|  Leve|                840|ESTADOS UNIDOS DE...|Recuperado|           2/3/2020 0:00:00|           NULL|   11/3/2020 0:00:00|    17/3/2020 0:00:00|                 PCR|                 6|                   NULL|\n",
      "|11/3/2020 0:00:00|         8|     9/3/2020 0:00:00|                          11|             BOGOTA|                    11001|          BOGOTA|  22|                       1|   F|       Importado|              Casa|  Leve|                724|              ESPAÑA|Recuperado|           6/3/2020 0:00:00|           NULL|   11/3/2020 0:00:00|    21/3/2020 0:00:00|                 PCR|                 6|                   NULL|\n",
      "|11/3/2020 0:00:00|         9|     8/3/2020 0:00:00|                          11|             BOGOTA|                    11001|          BOGOTA|  28|                       1|   F|       Importado|              Casa|  Leve|                724|              ESPAÑA|Recuperado|           7/3/2020 0:00:00|           NULL|   11/3/2020 0:00:00|    23/3/2020 0:00:00|                 PCR|                 6|                   NULL|\n",
      "|12/3/2020 0:00:00|        10|    12/3/2020 0:00:00|                          11|             BOGOTA|                    11001|          BOGOTA|  36|                       1|   F|       Importado|              Casa|  Leve|                724|              ESPAÑA|Recuperado|           6/3/2020 0:00:00|           NULL|   12/3/2020 0:00:00|    21/3/2020 0:00:00|                 PCR|                 6|                   NULL|\n",
      "+-----------------+----------+---------------------+----------------------------+-------------------+-------------------------+----------------+----+------------------------+----+----------------+------------------+------+-------------------+--------------------+----------+---------------------------+---------------+--------------------+---------------------+--------------------+------------------+-----------------------+\n",
      "only showing top 10 rows"
     ]
    }
   ],
   "source": [
    "# Mostramos el contenido de las 10 primeras entradas de la tabla 'Covid19'.\n",
    "spark.sql('SELECT * from Covid19').show(10)"
   ]
  },
  {
   "cell_type": "code",
   "execution_count": 42,
   "metadata": {
    "colab": {
     "base_uri": "https://localhost:8080/"
    },
    "id": "4FdeSCtM22Z5",
    "outputId": "0aa924e1-5388-46b6-b68d-155079aa4ffa"
   },
   "outputs": [
    {
     "data": {
      "application/vnd.jupyter.widget-view+json": {
       "model_id": "",
       "version_major": 2,
       "version_minor": 0
      },
      "text/plain": [
       "FloatProgress(value=0.0, bar_style='info', description='Progress:', layout=Layout(height='25px', width='50%'),…"
      ]
     },
     "metadata": {},
     "output_type": "display_data"
    },
    {
     "name": "stdout",
     "output_type": "stream",
     "text": [
      "+-------------------+-----------+\n",
      "|Nombre departamento|Total_Casos|\n",
      "+-------------------+-----------+\n",
      "|             BOGOTA|        401|\n",
      "|              VALLE|        148|\n",
      "|          ANTIOQUIA|        106|\n",
      "|       CUNDINAMARCA|         49|\n",
      "|          CARTAGENA|         39|\n",
      "|          RISARALDA|         34|\n",
      "|       BARRANQUILLA|         31|\n",
      "|              HUILA|         30|\n",
      "|            QUINDIO|         23|\n",
      "|    NORTE SANTANDER|         19|\n",
      "+-------------------+-----------+"
     ]
    }
   ],
   "source": [
    "# Realizamos la query para optener los 10 departamentos con más casos de covid en colombia ordenados de mayor a menor.\n",
    "spark.sql('SELECT `Nombre departamento`, COUNT(*) as Total_Casos FROM Covid19 GROUP BY `Nombre departamento` ORDER BY Total_Casos DESC LIMIT 10').show()"
   ]
  },
  {
   "cell_type": "code",
   "execution_count": 43,
   "metadata": {
    "colab": {
     "base_uri": "https://localhost:8080/"
    },
    "id": "Yidp74X75DiL",
    "outputId": "1275c08e-a30e-4dd1-cace-46ea5ca9bd98"
   },
   "outputs": [
    {
     "data": {
      "application/vnd.jupyter.widget-view+json": {
       "model_id": "",
       "version_major": 2,
       "version_minor": 0
      },
      "text/plain": [
       "FloatProgress(value=0.0, bar_style='info', description='Progress:', layout=Layout(height='25px', width='50%'),…"
      ]
     },
     "metadata": {},
     "output_type": "display_data"
    },
    {
     "name": "stdout",
     "output_type": "stream",
     "text": [
      "+----------------+-----------+\n",
      "|Nombre municipio|Total_Casos|\n",
      "+----------------+-----------+\n",
      "|          BOGOTA|        401|\n",
      "|            CALI|        101|\n",
      "|        MEDELLIN|         63|\n",
      "|       CARTAGENA|         39|\n",
      "|    BARRANQUILLA|         31|\n",
      "|           NEIVA|         27|\n",
      "|         PEREIRA|         25|\n",
      "|         PALMIRA|         22|\n",
      "|      VALLEDUPAR|         16|\n",
      "|         ARMENIA|         15|\n",
      "+----------------+-----------+"
     ]
    }
   ],
   "source": [
    "# Realizamos la query para optener las 10 ciudades (municipios) con más casos de covid en Colombia Ordenados de mayor a menor.\n",
    "spark.sql('SELECT `Nombre municipio`, COUNT(*) as Total_Casos FROM Covid19 GROUP BY `Nombre municipio` ORDER BY Total_Casos DESC LIMIT 10').show()"
   ]
  },
  {
   "cell_type": "code",
   "execution_count": 44,
   "metadata": {
    "colab": {
     "base_uri": "https://localhost:8080/"
    },
    "id": "0AKSRAbt6ogf",
    "outputId": "1409663d-21b0-443e-979c-852942849133"
   },
   "outputs": [
    {
     "data": {
      "application/vnd.jupyter.widget-view+json": {
       "model_id": "",
       "version_major": 2,
       "version_minor": 0
      },
      "text/plain": [
       "FloatProgress(value=0.0, bar_style='info', description='Progress:', layout=Layout(height='25px', width='50%'),…"
      ]
     },
     "metadata": {},
     "output_type": "display_data"
    },
    {
     "name": "stdout",
     "output_type": "stream",
     "text": [
      "+-----------------+-----------+\n",
      "|fecha reporte web|Total_Casos|\n",
      "+-----------------+-----------+\n",
      "|31/3/2020 0:00:00|        107|\n",
      "|24/3/2020 0:00:00|        105|\n",
      "|30/3/2020 0:00:00|         96|\n",
      "| 1/4/2020 0:00:00|         95|\n",
      "|29/3/2020 0:00:00|         94|\n",
      "|23/3/2020 0:00:00|         73|\n",
      "|28/3/2020 0:00:00|         69|\n",
      "|25/3/2020 0:00:00|         61|\n",
      "|27/3/2020 0:00:00|         49|\n",
      "|20/3/2020 0:00:00|         48|\n",
      "+-----------------+-----------+"
     ]
    }
   ],
   "source": [
    "# Realizamos la query para optener los 10 días con más casos de covid en Colombia Ordenados de mayor a menor.\n",
    "spark.sql('SELECT `fecha reporte web`, COUNT(*) as Total_Casos FROM Covid19 GROUP BY `fecha reporte web` ORDER BY Total_Casos DESC LIMIT 10').show()"
   ]
  },
  {
   "cell_type": "code",
   "execution_count": 45,
   "metadata": {
    "colab": {
     "base_uri": "https://localhost:8080/"
    },
    "id": "WTThcaY468H_",
    "outputId": "5450d9c6-7d7b-44fb-a080-637ea1e74bfd"
   },
   "outputs": [
    {
     "data": {
      "application/vnd.jupyter.widget-view+json": {
       "model_id": "",
       "version_major": 2,
       "version_minor": 0
      },
      "text/plain": [
       "FloatProgress(value=0.0, bar_style='info', description='Progress:', layout=Layout(height='25px', width='50%'),…"
      ]
     },
     "metadata": {},
     "output_type": "display_data"
    },
    {
     "name": "stdout",
     "output_type": "stream",
     "text": [
      "+----+-----------+\n",
      "|Edad|Total_Casos|\n",
      "+----+-----------+\n",
      "|   1|          1|\n",
      "|   2|          4|\n",
      "|   3|          1|\n",
      "|   4|          1|\n",
      "|   5|          1|\n",
      "|   6|          2|\n",
      "|   8|          1|\n",
      "|   9|          5|\n",
      "|  12|          2|\n",
      "|  13|          1|\n",
      "|  15|          5|\n",
      "|  16|          6|\n",
      "|  17|          3|\n",
      "|  18|         11|\n",
      "|  19|         11|\n",
      "|  20|          6|\n",
      "|  21|         22|\n",
      "|  22|         15|\n",
      "|  23|         16|\n",
      "|  24|         21|\n",
      "+----+-----------+\n",
      "only showing top 20 rows"
     ]
    }
   ],
   "source": [
    "# Realizar la query para optener la distribución de los casos pro edades de covid en Colombia.\n",
    "spark.sql('SELECT Edad, COUNT(*) as Total_Casos FROM Covid19 GROUP BY Edad ORDER BY Edad').show()"
   ]
  },
  {
   "cell_type": "code",
   "execution_count": 46,
   "metadata": {
    "colab": {
     "base_uri": "https://localhost:8080/"
    },
    "id": "fUGGbilx7ClB",
    "outputId": "455ff1b6-0a61-4701-e8b5-88a870a8c3ef"
   },
   "outputs": [
    {
     "data": {
      "application/vnd.jupyter.widget-view+json": {
       "model_id": "",
       "version_major": 2,
       "version_minor": 0
      },
      "text/plain": [
       "FloatProgress(value=0.0, bar_style='info', description='Progress:', layout=Layout(height='25px', width='50%'),…"
      ]
     },
     "metadata": {},
     "output_type": "display_data"
    },
    {
     "name": "stdout",
     "output_type": "stream",
     "text": [
      "+-------------------+------------------+\n",
      "|Nombre departamento|     Promedio_Edad|\n",
      "+-------------------+------------------+\n",
      "|             BOGOTA| 43.01496259351621|\n",
      "|              VALLE| 41.99324324324324|\n",
      "|          ANTIOQUIA|40.386792452830186|\n",
      "|       CUNDINAMARCA|42.734693877551024|\n",
      "|          CARTAGENA| 40.05128205128205|\n",
      "+-------------------+------------------+"
     ]
    }
   ],
   "source": [
    "# Realizar query para optener el promedio de eddes de los casos registados en los 5 departamentos con más casos.\n",
    "query = \"\"\"\n",
    "  SELECT `Nombre departamento`, Promedio_Edad\n",
    "    FROM (SELECT cd.`Nombre departamento`, COUNT(*) AS total_casos, AVG(cd.Edad) AS Promedio_Edad\n",
    "    FROM Covid19 cd\n",
    "    GROUP BY cd.`Nombre departamento`\n",
    "    ORDER BY total_casos DESC\n",
    "    LIMIT 5\n",
    "  ) subquery\n",
    "\"\"\"\n",
    "result = spark.sql(query)\n",
    "result.show()"
   ]
  },
  {
   "cell_type": "code",
   "execution_count": 55,
   "metadata": {},
   "outputs": [
    {
     "data": {
      "application/vnd.jupyter.widget-view+json": {
       "model_id": "",
       "version_major": 2,
       "version_minor": 0
      },
      "text/plain": [
       "FloatProgress(value=0.0, bar_style='info', description='Progress:', layout=Layout(height='25px', width='50%'),…"
      ]
     },
     "metadata": {},
     "output_type": "display_data"
    }
   ],
   "source": [
    "direc='s3://lab4-covid19/Refined/dfjupyter'"
   ]
  },
  {
   "cell_type": "code",
   "execution_count": 56,
   "metadata": {
    "id": "Vlo_z6y69IoP"
   },
   "outputs": [
    {
     "data": {
      "application/vnd.jupyter.widget-view+json": {
       "model_id": "",
       "version_major": 2,
       "version_minor": 0
      },
      "text/plain": [
       "FloatProgress(value=0.0, bar_style='info', description='Progress:', layout=Layout(height='25px', width='50%'),…"
      ]
     },
     "metadata": {},
     "output_type": "display_data"
    }
   ],
   "source": [
    "#save the dataframe as single csv\n",
    "df_rename.coalesce(1).write.format(\"csv\").option(\"header\",\"true\").save(direc)"
   ]
  },
  {
   "cell_type": "code",
   "execution_count": null,
   "metadata": {},
   "outputs": [],
   "source": []
  }
 ],
 "metadata": {
  "colab": {
   "provenance": []
  },
  "kernelspec": {
   "display_name": "PySpark",
   "language": "python",
   "name": "pysparkkernel"
  },
  "language_info": {
   "codemirror_mode": {
    "name": "python",
    "version": 3
   },
   "file_extension": ".py",
   "mimetype": "text/x-python",
   "name": "pyspark",
   "pygments_lexer": "python3"
  },
  "vscode": {
   "interpreter": {
    "hash": "aee8b7b246df8f9039afb4144a1f6fd8d2ca17a180786b69acc140d282b71a49"
   }
  }
 },
 "nbformat": 4,
 "nbformat_minor": 1
}
